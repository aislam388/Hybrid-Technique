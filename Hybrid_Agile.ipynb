{
  "nbformat": 4,
  "nbformat_minor": 0,
  "metadata": {
    "colab": {
      "provenance": [],
      "mount_file_id": "1Wf-RZaQr8oZtQZQixHn6iXqTKkW-AzIn",
      "authorship_tag": "ABX9TyMMotKwd6tD7ty9P12rKw1f",
      "include_colab_link": true
    },
    "kernelspec": {
      "name": "python3",
      "display_name": "Python 3"
    },
    "accelerator": "GPU"
  },
  "cells": [
    {
      "cell_type": "markdown",
      "metadata": {
        "id": "view-in-github",
        "colab_type": "text"
      },
      "source": [
        "<a href=\"https://colab.research.google.com/github/aislam388/Hybrid-Technique/blob/main/Hybrid_Agile.ipynb\" target=\"_parent\"><img src=\"https://colab.research.google.com/assets/colab-badge.svg\" alt=\"Open In Colab\"/></a>"
      ]
    },
    {
      "cell_type": "code",
      "metadata": {
        "id": "YW6DshUuQtXs",
        "colab": {
          "base_uri": "https://localhost:8080/",
          "height": 93
        },
        "outputId": "cd91d103-4180-4ef7-ef5d-53067c1e2caa"
      },
      "source": [
        "import os\n",
        "import shutil\n",
        "from os.path import isfile, join, abspath, exists, isdir, expanduser\n",
        "from os import listdir, makedirs, getcwd, remove\n",
        "from pathlib import Path\n",
        "import numpy as np\n",
        "import pandas as pd\n",
        "import seaborn as sns\n",
        "sns.set_style('darkgrid')\n",
        "import matplotlib.pyplot as plt\n",
        "import matplotlib.image as mimg\n",
        "# plotly\n",
        "import plotly as py\n",
        "from plotly.offline import init_notebook_mode, iplot\n",
        "init_notebook_mode(connected=True)\n",
        "import plotly.graph_objs as go\n",
        "import plotly.express as px\n",
        "\n",
        "import tensorflow as tf\n",
        "from plotly.graph_objs import *\n",
        "from sklearn.preprocessing import LabelEncoder\n",
        "from keras.preprocessing.image import ImageDataGenerator,load_img, img_to_array\n",
        "from keras import layers\n",
        "from keras import models\n",
        "from keras import optimizers\n",
        "import keras"
      ],
      "execution_count": null,
      "outputs": [
        {
          "output_type": "stream",
          "text": [
            "/usr/local/lib/python3.6/dist-packages/statsmodels/tools/_testing.py:19: FutureWarning: pandas.util.testing is deprecated. Use the functions in the public API at pandas.testing instead.\n",
            "  import pandas.util.testing as tm\n"
          ],
          "name": "stderr"
        },
        {
          "output_type": "display_data",
          "data": {
            "text/html": [
              "        <script type=\"text/javascript\">\n",
              "        window.PlotlyConfig = {MathJaxConfig: 'local'};\n",
              "        if (window.MathJax) {MathJax.Hub.Config({SVG: {font: \"STIX-Web\"}});}\n",
              "        if (typeof require !== 'undefined') {\n",
              "        require.undef(\"plotly\");\n",
              "        requirejs.config({\n",
              "            paths: {\n",
              "                'plotly': ['https://cdn.plot.ly/plotly-latest.min']\n",
              "            }\n",
              "        });\n",
              "        require(['plotly'], function(Plotly) {\n",
              "            window._Plotly = Plotly;\n",
              "        });\n",
              "        }\n",
              "        </script>\n",
              "        "
            ]
          },
          "metadata": {
            "tags": []
          }
        },
        {
          "output_type": "stream",
          "text": [
            "Using TensorFlow backend.\n"
          ],
          "name": "stderr"
        }
      ]
    },
    {
      "cell_type": "code",
      "metadata": {
        "id": "cucAF-2FeuVH"
      },
      "source": [
        "from keras.layers import Input, Lambda, Dense, Flatten\n",
        "from keras.models import Model\n",
        "from keras.preprocessing import image\n",
        "from keras.preprocessing.image import ImageDataGenerator\n",
        "from keras.models import Sequential\n",
        "import numpy as np\n",
        "from glob import glob\n",
        "import matplotlib.pyplot as plt\n",
        "import os\n",
        "from PIL import Image"
      ],
      "execution_count": null,
      "outputs": []
    },
    {
      "cell_type": "code",
      "metadata": {
        "id": "tlEqlVb_ROIU",
        "colab": {
          "base_uri": "https://localhost:8080/",
          "height": 36
        },
        "outputId": "731745cf-e4c5-43a4-f275-6cc501466537"
      },
      "source": [
        "input_path = \"/content/drive/My Drive/LIDC-IDRI-0001/01-01-2000-30178/3000566-03192/\"\n",
        "# train and valid = flowr_path\n",
        "train = input_path+\"/Training/\"\n",
        "valid = input_path+\"/Validation/\"\n",
        "print(train)"
      ],
      "execution_count": null,
      "outputs": [
        {
          "output_type": "stream",
          "text": [
            "/content/drive/My Drive/LIDC-IDRI-0001/01-01-2000-30178/3000566-03192//Training/\n"
          ],
          "name": "stdout"
        }
      ]
    },
    {
      "cell_type": "code",
      "metadata": {
        "id": "gTZSRotTRT7d",
        "colab": {
          "base_uri": "https://localhost:8080/",
          "height": 54
        },
        "outputId": "cbec4e89-8735-4aa8-e363-d56ce6f24734"
      },
      "source": [
        "# classes = flower_types\n",
        "classes = os.listdir(train)\n",
        "print(\"No of classes: \", len(classes))\n",
        "print(\"Class Labels: \", classes)"
      ],
      "execution_count": null,
      "outputs": [
        {
          "output_type": "stream",
          "text": [
            "No of classes:  2\n",
            "Class Labels:  ['Positive', 'Negative']\n"
          ],
          "name": "stdout"
        }
      ]
    },
    {
      "cell_type": "code",
      "metadata": {
        "id": "Dq-DqgI4RfXx"
      },
      "source": [
        "from keras.applications import VGG16\n",
        "from keras.applications.vgg16 import preprocess_input\n",
        "weights_vgg16 = \"/content/drive/My Drive/LIDC-IDRI-0001/01-01-2000-30178/3000566-03192/vgg16_weights_tf_dim_ordering_tf_kernels_notop.h5\"\n",
        "conv_base_16= VGG16(weights=weights_vgg16,\n",
        "                 include_top= False,\n",
        "                 input_shape = (224,224,3))"
      ],
      "execution_count": null,
      "outputs": []
    },
    {
      "cell_type": "code",
      "metadata": {
        "id": "EfQh1izOdwlR",
        "colab": {
          "base_uri": "https://localhost:8080/",
          "height": 879
        },
        "outputId": "a6b011f0-d396-470c-874d-5fe115890e03"
      },
      "source": [
        "conv_base_16.summary()"
      ],
      "execution_count": null,
      "outputs": [
        {
          "output_type": "stream",
          "text": [
            "Model: \"vgg16\"\n",
            "_________________________________________________________________\n",
            "Layer (type)                 Output Shape              Param #   \n",
            "=================================================================\n",
            "input_1 (InputLayer)         (None, 224, 224, 3)       0         \n",
            "_________________________________________________________________\n",
            "block1_conv1 (Conv2D)        (None, 224, 224, 64)      1792      \n",
            "_________________________________________________________________\n",
            "block1_conv2 (Conv2D)        (None, 224, 224, 64)      36928     \n",
            "_________________________________________________________________\n",
            "block1_pool (MaxPooling2D)   (None, 112, 112, 64)      0         \n",
            "_________________________________________________________________\n",
            "block2_conv1 (Conv2D)        (None, 112, 112, 128)     73856     \n",
            "_________________________________________________________________\n",
            "block2_conv2 (Conv2D)        (None, 112, 112, 128)     147584    \n",
            "_________________________________________________________________\n",
            "block2_pool (MaxPooling2D)   (None, 56, 56, 128)       0         \n",
            "_________________________________________________________________\n",
            "block3_conv1 (Conv2D)        (None, 56, 56, 256)       295168    \n",
            "_________________________________________________________________\n",
            "block3_conv2 (Conv2D)        (None, 56, 56, 256)       590080    \n",
            "_________________________________________________________________\n",
            "block3_conv3 (Conv2D)        (None, 56, 56, 256)       590080    \n",
            "_________________________________________________________________\n",
            "block3_pool (MaxPooling2D)   (None, 28, 28, 256)       0         \n",
            "_________________________________________________________________\n",
            "block4_conv1 (Conv2D)        (None, 28, 28, 512)       1180160   \n",
            "_________________________________________________________________\n",
            "block4_conv2 (Conv2D)        (None, 28, 28, 512)       2359808   \n",
            "_________________________________________________________________\n",
            "block4_conv3 (Conv2D)        (None, 28, 28, 512)       2359808   \n",
            "_________________________________________________________________\n",
            "block4_pool (MaxPooling2D)   (None, 14, 14, 512)       0         \n",
            "_________________________________________________________________\n",
            "block5_conv1 (Conv2D)        (None, 14, 14, 512)       2359808   \n",
            "_________________________________________________________________\n",
            "block5_conv2 (Conv2D)        (None, 14, 14, 512)       2359808   \n",
            "_________________________________________________________________\n",
            "block5_conv3 (Conv2D)        (None, 14, 14, 512)       2359808   \n",
            "_________________________________________________________________\n",
            "block5_pool (MaxPooling2D)   (None, 7, 7, 512)         0         \n",
            "=================================================================\n",
            "Total params: 14,714,688\n",
            "Trainable params: 14,714,688\n",
            "Non-trainable params: 0\n",
            "_________________________________________________________________\n"
          ],
          "name": "stdout"
        }
      ]
    },
    {
      "cell_type": "code",
      "metadata": {
        "id": "3wSwKGcwbWy5"
      },
      "source": [
        "def _get_features_16(img_path):\n",
        "  img = image.load_img(img_path, target_size=(224,224))\n",
        "  img_data = image.img_to_array(img)\n",
        "  img_data = np.expand_dims(img_data, axis=0)\n",
        "  img_data = preprocess_input(img_data)\n",
        "  vgg16_features = conv_base_16.predict(img_data)\n",
        "  return vgg16_features"
      ],
      "execution_count": null,
      "outputs": []
    },
    {
      "cell_type": "code",
      "metadata": {
        "id": "0RH0j9TbeBMv",
        "colab": {
          "base_uri": "https://localhost:8080/",
          "height": 36
        },
        "outputId": "042f594d-2b2c-427c-8411-e20bb96584bb"
      },
      "source": [
        "import pandas as pd\n",
        "train_list = []\n",
        "\n",
        "# images = species_num, labels = species, train_list = train, train = train_dir\n",
        "for images, labels in enumerate(classes):\n",
        "  for file in os.listdir(os.path.join(train+ labels)):\n",
        "      train_list.append(['/content/drive/My Drive/LIDC-IDRI-0001/01-01-2000-30178/3000566-03192/Training/{}/{}'.format(labels, file), images, labels])\n",
        "        \n",
        "train_list = pd.DataFrame(train_list, columns=['file', 'images', 'labels'])\n",
        "\n",
        "print('Training Data: ',train_list.shape)"
      ],
      "execution_count": null,
      "outputs": [
        {
          "output_type": "stream",
          "text": [
            "Training Data:  (962, 3)\n"
          ],
          "name": "stdout"
        }
      ]
    },
    {
      "cell_type": "code",
      "metadata": {
        "id": "LL51_3KDdyRL"
      },
      "source": [
        "features = []\n",
        "for i in range(len(train_list)):\n",
        "  features.append(_get_features_16(train_list['file'][i]))"
      ],
      "execution_count": null,
      "outputs": []
    },
    {
      "cell_type": "code",
      "metadata": {
        "id": "5G2x-BG-iUH5",
        "colab": {
          "base_uri": "https://localhost:8080/",
          "height": 36
        },
        "outputId": "b91f2690-0e91-4755-f029-ae43c3d26e09"
      },
      "source": [
        "print(features[1].shape\n",
        "      )"
      ],
      "execution_count": null,
      "outputs": [
        {
          "output_type": "stream",
          "text": [
            "(1, 7, 7, 512)\n"
          ],
          "name": "stdout"
        }
      ]
    },
    {
      "cell_type": "code",
      "metadata": {
        "id": "bRuf2gphbvrs"
      },
      "source": [
        "from keras.layers import Input, Conv2D, MaxPool2D\n",
        "from keras.layers import Dense, Flatten\n",
        "from keras.models import Model"
      ],
      "execution_count": null,
      "outputs": []
    },
    {
      "cell_type": "code",
      "metadata": {
        "id": "WVY696SBbW8l"
      },
      "source": [],
      "execution_count": null,
      "outputs": []
    },
    {
      "cell_type": "code",
      "metadata": {
        "id": "8UzMlhLaSzyN"
      },
      "source": [
        "from keras.applications import VGG19\n",
        "from keras.applications.vgg19 import preprocess_input\n",
        "weights_vgg19 = \"/content/drive/My Drive/LIDC-IDRI-0001/01-01-2000-30178/3000566-03192/vgg19_weights_tf_dim_ordering_tf_kernels_notop.h5\"\n",
        "conv_base_19 = VGG19(weights=weights_vgg19,\n",
        "                     include_top=False,\n",
        "                     input_shape = (224,224,3))"
      ],
      "execution_count": null,
      "outputs": []
    },
    {
      "cell_type": "code",
      "metadata": {
        "id": "_tuhBvModGpa"
      },
      "source": [
        "def _get_features_19(img_path):\n",
        "  img = image.load_img(img_path, target_size=(224,224))\n",
        "  img_data = image.img_to_array(img)\n",
        "  img_data = np.expand_dims(img_data, axis=0)\n",
        "  img_data = preprocess_input(img_data)\n",
        "  vgg19_features = conv_base_19.predict(img_data)\n",
        "  return vgg19_features"
      ],
      "execution_count": null,
      "outputs": []
    },
    {
      "cell_type": "code",
      "metadata": {
        "id": "BInyLws4Rj3h"
      },
      "source": [
        "from keras.layers import Input, Lambda, Dense, Flatten\n",
        "from keras.models import Model\n",
        "from keras.preprocessing import image\n",
        "from keras.preprocessing.image import ImageDataGenerator\n",
        "from keras.models import Sequential\n",
        "import numpy as np\n",
        "from glob import glob\n",
        "import matplotlib.pyplot as plt\n",
        "import os\n",
        "from PIL import Image"
      ],
      "execution_count": null,
      "outputs": []
    },
    {
      "cell_type": "code",
      "metadata": {
        "id": "E8A8nyyRgjVe"
      },
      "source": [
        "from keras.utils import plot_model\n",
        "from keras.models import Model\n",
        "from keras.layers import Input\n",
        "from keras.layers import Dense\n",
        "from keras.layers import Flatten\n",
        "from keras.layers.convolutional import Conv2D\n",
        "from keras.layers.pooling import MaxPooling2D\n",
        "from keras.layers.merge import concatenate"
      ],
      "execution_count": null,
      "outputs": []
    },
    {
      "cell_type": "code",
      "metadata": {
        "id": "xQ8KE3kGPCYS",
        "colab": {
          "base_uri": "https://localhost:8080/",
          "height": 1000
        },
        "outputId": "ef9dea49-3155-4752-db69-49d9c8756d5a"
      },
      "source": [
        "_input = keras.Input(shape=(224,224,3))\n",
        "\n",
        "conv1 = Conv2D(filters=64, kernel_size=(3,3), padding = \"same\", activation=\"relu\")(_input)\n",
        "conv2 = Conv2D(filters=64, kernel_size=(3,3), padding = \"same\", activation=\"relu\")(conv1)\n",
        "pool1 = MaxPool2D((2,2))(conv2)\n",
        "\n",
        "conv3 = Conv2D(filters=128, kernel_size=(3,3), padding = \"same\", activation=\"relu\")(pool1)\n",
        "conv4 = Conv2D(filters=128, kernel_size=(3,3), padding = \"same\", activation=\"relu\")(conv3)\n",
        "pool2 = MaxPool2D((2,2))(conv4)\n",
        "\n",
        "\n",
        "conv5 = Conv2D(filters=256, kernel_size=(3,3), padding = \"same\", activation=\"relu\")(pool2)\n",
        "conv6 = Conv2D(filters=256, kernel_size=(3,3), padding = \"same\", activation=\"relu\")(conv5)\n",
        "conv7 = Conv2D(filters=256, kernel_size=(3,3), padding = \"same\", activation=\"relu\")(conv6)\n",
        "pool3 = MaxPool2D((2,2))(conv7)\n",
        "\n",
        "\n",
        "conv8 = Conv2D(filters=512, kernel_size=(3,3), padding = \"same\", activation=\"relu\")(pool3)\n",
        "conv9 = Conv2D(filters=512, kernel_size=(3,3), padding = \"same\", activation=\"relu\")(conv8)\n",
        "conv10 = Conv2D(filters=512, kernel_size=(3,3), padding = \"same\", activation=\"relu\")(conv9)\n",
        "pool4 = MaxPool2D((2,2))(conv10)\n",
        "\n",
        "\n",
        "conv11 = Conv2D(filters=512, kernel_size=(3,3), padding = \"same\", activation=\"relu\")(pool4)\n",
        "conv12 = Conv2D(filters=512, kernel_size=(3,3), padding = \"same\", activation=\"relu\")(conv11)\n",
        "conv13 = Conv2D(filters=512, kernel_size=(3,3), padding = \"same\", activation=\"relu\")(conv12)\n",
        "pool5 = MaxPool2D((2,2))(conv13)\n",
        "\n",
        "flat1 = Flatten()(pool5)\n",
        "\n",
        "# Second FEature extractor VGG19\n",
        "conv2_1 = Conv2D(filters=64, kernel_size=(3,3),strides=(1,1), padding = \"same\", activation=\"relu\")(_input)\n",
        "conv2_2 = Conv2D(filters=64, kernel_size=(3,3),strides=(1,1), padding = \"same\", activation=\"relu\")(conv2_1)\n",
        "pool2_1 = MaxPool2D((2,2))(conv2_2)\n",
        "\n",
        "conv2_3 = Conv2D(filters=128, kernel_size=(3,3),strides=(1,1), padding = \"same\", activation=\"relu\")(pool2_1)\n",
        "conv2_4 = Conv2D(filters=128, kernel_size=(3,3),strides=(1,1), padding = \"same\", activation=\"relu\")(conv2_3)\n",
        "pool2_2 = MaxPool2D((2,2))(conv2_4)\n",
        "\n",
        "\n",
        "conv2_5 = Conv2D(filters=256, kernel_size=(3,3),strides=(1,1), padding = \"same\", activation=\"relu\")(pool2_2)\n",
        "conv2_6 = Conv2D(filters=256, kernel_size=(3,3),strides=(1,1), padding = \"same\", activation=\"relu\")(conv2_5)\n",
        "conv2_7 = Conv2D(filters=256, kernel_size=(3,3),strides=(1,1), padding = \"same\", activation=\"relu\")(conv2_6)\n",
        "conv2_8 = Conv2D(filters=512, kernel_size=(3,3),strides=(1,1), padding = \"same\", activation=\"relu\")(conv2_7)\n",
        "pool2_3 = MaxPool2D((2,2))(conv2_8)\n",
        "\n",
        "\n",
        "conv2_9 = Conv2D(filters=512, kernel_size=(3,3),strides=(1,1), padding = \"same\", activation=\"relu\")(pool2_3)\n",
        "conv2_10 = Conv2D(filters=512, kernel_size=(3,3),strides=(1,1), padding = \"same\", activation=\"relu\")(conv2_9)\n",
        "conv2_11 = Conv2D(filters=512, kernel_size=(3,3),strides=(1,1), padding = \"same\", activation=\"relu\")(conv2_10)\n",
        "conv2_12 = Conv2D(filters=512, kernel_size=(3,3),strides=(1,1), padding = \"same\", activation=\"relu\")(conv2_11)\n",
        "pool2_4 = MaxPool2D((2,2))(conv2_12)\n",
        "\n",
        "\n",
        "conv2_13 = Conv2D(filters=512, kernel_size=(3,3),strides=(1,1), padding = \"same\", activation=\"relu\")(pool2_4)\n",
        "conv2_14 = Conv2D(filters=512, kernel_size=(3,3),strides=(1,1),padding = \"same\", activation=\"relu\")(conv2_13)\n",
        "conv2_15 = Conv2D(filters=512, kernel_size=(3,3),strides=(1,1), padding = \"same\", activation=\"relu\")(conv2_14)\n",
        "conv2_16 = Conv2D(filters=512, kernel_size=(3,3),strides=(1,1), padding = \"same\", activation=\"relu\")(conv2_15)\n",
        "pool2_5 = MaxPool2D((2,2))(conv2_16)\n",
        "\n",
        "flat2 = Flatten()(pool2_5)\n",
        "\n",
        "merge = concatenate([flat1, flat2])\n",
        "\n",
        "dense1 = Dense(4096, activation=\"relu\")(merge)\n",
        "dense2 = Dense(4096, activation=\"relu\")(dense1)\n",
        "output = Dense(2, activation=\"softmax\")(dense2)\n",
        "\n",
        "model = Model(inputs=_input, outputs=output)\n",
        "\n",
        "print(model.summary())"
      ],
      "execution_count": null,
      "outputs": [
        {
          "output_type": "stream",
          "text": [
            "Model: \"model_1\"\n",
            "__________________________________________________________________________________________________\n",
            "Layer (type)                    Output Shape         Param #     Connected to                     \n",
            "==================================================================================================\n",
            "input_3 (InputLayer)            (None, 224, 224, 3)  0                                            \n",
            "__________________________________________________________________________________________________\n",
            "conv2d_14 (Conv2D)              (None, 224, 224, 64) 1792        input_3[0][0]                    \n",
            "__________________________________________________________________________________________________\n",
            "conv2d_15 (Conv2D)              (None, 224, 224, 64) 36928       conv2d_14[0][0]                  \n",
            "__________________________________________________________________________________________________\n",
            "max_pooling2d_6 (MaxPooling2D)  (None, 112, 112, 64) 0           conv2d_15[0][0]                  \n",
            "__________________________________________________________________________________________________\n",
            "conv2d_1 (Conv2D)               (None, 224, 224, 64) 1792        input_3[0][0]                    \n",
            "__________________________________________________________________________________________________\n",
            "conv2d_16 (Conv2D)              (None, 112, 112, 128 73856       max_pooling2d_6[0][0]            \n",
            "__________________________________________________________________________________________________\n",
            "conv2d_2 (Conv2D)               (None, 224, 224, 64) 36928       conv2d_1[0][0]                   \n",
            "__________________________________________________________________________________________________\n",
            "conv2d_17 (Conv2D)              (None, 112, 112, 128 147584      conv2d_16[0][0]                  \n",
            "__________________________________________________________________________________________________\n",
            "max_pooling2d_1 (MaxPooling2D)  (None, 112, 112, 64) 0           conv2d_2[0][0]                   \n",
            "__________________________________________________________________________________________________\n",
            "max_pooling2d_7 (MaxPooling2D)  (None, 56, 56, 128)  0           conv2d_17[0][0]                  \n",
            "__________________________________________________________________________________________________\n",
            "conv2d_3 (Conv2D)               (None, 112, 112, 128 73856       max_pooling2d_1[0][0]            \n",
            "__________________________________________________________________________________________________\n",
            "conv2d_18 (Conv2D)              (None, 56, 56, 256)  295168      max_pooling2d_7[0][0]            \n",
            "__________________________________________________________________________________________________\n",
            "conv2d_4 (Conv2D)               (None, 112, 112, 128 147584      conv2d_3[0][0]                   \n",
            "__________________________________________________________________________________________________\n",
            "conv2d_19 (Conv2D)              (None, 56, 56, 256)  590080      conv2d_18[0][0]                  \n",
            "__________________________________________________________________________________________________\n",
            "max_pooling2d_2 (MaxPooling2D)  (None, 56, 56, 128)  0           conv2d_4[0][0]                   \n",
            "__________________________________________________________________________________________________\n",
            "conv2d_20 (Conv2D)              (None, 56, 56, 256)  590080      conv2d_19[0][0]                  \n",
            "__________________________________________________________________________________________________\n",
            "conv2d_5 (Conv2D)               (None, 56, 56, 256)  295168      max_pooling2d_2[0][0]            \n",
            "__________________________________________________________________________________________________\n",
            "conv2d_21 (Conv2D)              (None, 56, 56, 512)  1180160     conv2d_20[0][0]                  \n",
            "__________________________________________________________________________________________________\n",
            "conv2d_6 (Conv2D)               (None, 56, 56, 256)  590080      conv2d_5[0][0]                   \n",
            "__________________________________________________________________________________________________\n",
            "max_pooling2d_8 (MaxPooling2D)  (None, 28, 28, 512)  0           conv2d_21[0][0]                  \n",
            "__________________________________________________________________________________________________\n",
            "conv2d_7 (Conv2D)               (None, 56, 56, 256)  590080      conv2d_6[0][0]                   \n",
            "__________________________________________________________________________________________________\n",
            "conv2d_22 (Conv2D)              (None, 28, 28, 512)  2359808     max_pooling2d_8[0][0]            \n",
            "__________________________________________________________________________________________________\n",
            "max_pooling2d_3 (MaxPooling2D)  (None, 28, 28, 256)  0           conv2d_7[0][0]                   \n",
            "__________________________________________________________________________________________________\n",
            "conv2d_23 (Conv2D)              (None, 28, 28, 512)  2359808     conv2d_22[0][0]                  \n",
            "__________________________________________________________________________________________________\n",
            "conv2d_8 (Conv2D)               (None, 28, 28, 512)  1180160     max_pooling2d_3[0][0]            \n",
            "__________________________________________________________________________________________________\n",
            "conv2d_24 (Conv2D)              (None, 28, 28, 512)  2359808     conv2d_23[0][0]                  \n",
            "__________________________________________________________________________________________________\n",
            "conv2d_9 (Conv2D)               (None, 28, 28, 512)  2359808     conv2d_8[0][0]                   \n",
            "__________________________________________________________________________________________________\n",
            "conv2d_25 (Conv2D)              (None, 28, 28, 512)  2359808     conv2d_24[0][0]                  \n",
            "__________________________________________________________________________________________________\n",
            "conv2d_10 (Conv2D)              (None, 28, 28, 512)  2359808     conv2d_9[0][0]                   \n",
            "__________________________________________________________________________________________________\n",
            "max_pooling2d_9 (MaxPooling2D)  (None, 14, 14, 512)  0           conv2d_25[0][0]                  \n",
            "__________________________________________________________________________________________________\n",
            "max_pooling2d_4 (MaxPooling2D)  (None, 14, 14, 512)  0           conv2d_10[0][0]                  \n",
            "__________________________________________________________________________________________________\n",
            "conv2d_26 (Conv2D)              (None, 14, 14, 512)  2359808     max_pooling2d_9[0][0]            \n",
            "__________________________________________________________________________________________________\n",
            "conv2d_11 (Conv2D)              (None, 14, 14, 512)  2359808     max_pooling2d_4[0][0]            \n",
            "__________________________________________________________________________________________________\n",
            "conv2d_27 (Conv2D)              (None, 14, 14, 512)  2359808     conv2d_26[0][0]                  \n",
            "__________________________________________________________________________________________________\n",
            "conv2d_12 (Conv2D)              (None, 14, 14, 512)  2359808     conv2d_11[0][0]                  \n",
            "__________________________________________________________________________________________________\n",
            "conv2d_28 (Conv2D)              (None, 14, 14, 512)  2359808     conv2d_27[0][0]                  \n",
            "__________________________________________________________________________________________________\n",
            "conv2d_13 (Conv2D)              (None, 14, 14, 512)  2359808     conv2d_12[0][0]                  \n",
            "__________________________________________________________________________________________________\n",
            "conv2d_29 (Conv2D)              (None, 14, 14, 512)  2359808     conv2d_28[0][0]                  \n",
            "__________________________________________________________________________________________________\n",
            "max_pooling2d_5 (MaxPooling2D)  (None, 7, 7, 512)    0           conv2d_13[0][0]                  \n",
            "__________________________________________________________________________________________________\n",
            "max_pooling2d_10 (MaxPooling2D) (None, 7, 7, 512)    0           conv2d_29[0][0]                  \n",
            "__________________________________________________________________________________________________\n",
            "flatten_1 (Flatten)             (None, 25088)        0           max_pooling2d_5[0][0]            \n",
            "__________________________________________________________________________________________________\n",
            "flatten_2 (Flatten)             (None, 25088)        0           max_pooling2d_10[0][0]           \n",
            "__________________________________________________________________________________________________\n",
            "concatenate_1 (Concatenate)     (None, 50176)        0           flatten_1[0][0]                  \n",
            "                                                                 flatten_2[0][0]                  \n",
            "__________________________________________________________________________________________________\n",
            "dense_1 (Dense)                 (None, 4096)         205524992   concatenate_1[0][0]              \n",
            "__________________________________________________________________________________________________\n",
            "dense_2 (Dense)                 (None, 4096)         16781312    dense_1[0][0]                    \n",
            "__________________________________________________________________________________________________\n",
            "dense_3 (Dense)                 (None, 2)            8194        dense_2[0][0]                    \n",
            "==================================================================================================\n",
            "Total params: 258,823,298\n",
            "Trainable params: 258,823,298\n",
            "Non-trainable params: 0\n",
            "__________________________________________________________________________________________________\n",
            "None\n"
          ],
          "name": "stdout"
        }
      ]
    },
    {
      "cell_type": "code",
      "metadata": {
        "id": "KGFlmgi0-sTH"
      },
      "source": [
        "optimizer = keras.optimizers.Adam()\n",
        "model.compile(loss='categorical_crossentropy',\n",
        "              optimizer=optimizer,\n",
        "              metrics=['accuracy'])"
      ],
      "execution_count": null,
      "outputs": []
    },
    {
      "cell_type": "code",
      "metadata": {
        "id": "clYo2rSK_DSV",
        "colab": {
          "base_uri": "https://localhost:8080/",
          "height": 1000
        },
        "outputId": "7dfda34e-90e0-4941-973d-84425e96e9af"
      },
      "source": [
        "model.summary()"
      ],
      "execution_count": null,
      "outputs": [
        {
          "output_type": "stream",
          "text": [
            "Model: \"model_1\"\n",
            "__________________________________________________________________________________________________\n",
            "Layer (type)                    Output Shape         Param #     Connected to                     \n",
            "==================================================================================================\n",
            "input_3 (InputLayer)            (None, 224, 224, 3)  0                                            \n",
            "__________________________________________________________________________________________________\n",
            "conv2d_14 (Conv2D)              (None, 224, 224, 64) 1792        input_3[0][0]                    \n",
            "__________________________________________________________________________________________________\n",
            "conv2d_15 (Conv2D)              (None, 224, 224, 64) 36928       conv2d_14[0][0]                  \n",
            "__________________________________________________________________________________________________\n",
            "max_pooling2d_6 (MaxPooling2D)  (None, 112, 112, 64) 0           conv2d_15[0][0]                  \n",
            "__________________________________________________________________________________________________\n",
            "conv2d_1 (Conv2D)               (None, 224, 224, 64) 1792        input_3[0][0]                    \n",
            "__________________________________________________________________________________________________\n",
            "conv2d_16 (Conv2D)              (None, 112, 112, 128 73856       max_pooling2d_6[0][0]            \n",
            "__________________________________________________________________________________________________\n",
            "conv2d_2 (Conv2D)               (None, 224, 224, 64) 36928       conv2d_1[0][0]                   \n",
            "__________________________________________________________________________________________________\n",
            "conv2d_17 (Conv2D)              (None, 112, 112, 128 147584      conv2d_16[0][0]                  \n",
            "__________________________________________________________________________________________________\n",
            "max_pooling2d_1 (MaxPooling2D)  (None, 112, 112, 64) 0           conv2d_2[0][0]                   \n",
            "__________________________________________________________________________________________________\n",
            "max_pooling2d_7 (MaxPooling2D)  (None, 56, 56, 128)  0           conv2d_17[0][0]                  \n",
            "__________________________________________________________________________________________________\n",
            "conv2d_3 (Conv2D)               (None, 112, 112, 128 73856       max_pooling2d_1[0][0]            \n",
            "__________________________________________________________________________________________________\n",
            "conv2d_18 (Conv2D)              (None, 56, 56, 256)  295168      max_pooling2d_7[0][0]            \n",
            "__________________________________________________________________________________________________\n",
            "conv2d_4 (Conv2D)               (None, 112, 112, 128 147584      conv2d_3[0][0]                   \n",
            "__________________________________________________________________________________________________\n",
            "conv2d_19 (Conv2D)              (None, 56, 56, 256)  590080      conv2d_18[0][0]                  \n",
            "__________________________________________________________________________________________________\n",
            "max_pooling2d_2 (MaxPooling2D)  (None, 56, 56, 128)  0           conv2d_4[0][0]                   \n",
            "__________________________________________________________________________________________________\n",
            "conv2d_20 (Conv2D)              (None, 56, 56, 256)  590080      conv2d_19[0][0]                  \n",
            "__________________________________________________________________________________________________\n",
            "conv2d_5 (Conv2D)               (None, 56, 56, 256)  295168      max_pooling2d_2[0][0]            \n",
            "__________________________________________________________________________________________________\n",
            "conv2d_21 (Conv2D)              (None, 56, 56, 512)  1180160     conv2d_20[0][0]                  \n",
            "__________________________________________________________________________________________________\n",
            "conv2d_6 (Conv2D)               (None, 56, 56, 256)  590080      conv2d_5[0][0]                   \n",
            "__________________________________________________________________________________________________\n",
            "max_pooling2d_8 (MaxPooling2D)  (None, 28, 28, 512)  0           conv2d_21[0][0]                  \n",
            "__________________________________________________________________________________________________\n",
            "conv2d_7 (Conv2D)               (None, 56, 56, 256)  590080      conv2d_6[0][0]                   \n",
            "__________________________________________________________________________________________________\n",
            "conv2d_22 (Conv2D)              (None, 28, 28, 512)  2359808     max_pooling2d_8[0][0]            \n",
            "__________________________________________________________________________________________________\n",
            "max_pooling2d_3 (MaxPooling2D)  (None, 28, 28, 256)  0           conv2d_7[0][0]                   \n",
            "__________________________________________________________________________________________________\n",
            "conv2d_23 (Conv2D)              (None, 28, 28, 512)  2359808     conv2d_22[0][0]                  \n",
            "__________________________________________________________________________________________________\n",
            "conv2d_8 (Conv2D)               (None, 28, 28, 512)  1180160     max_pooling2d_3[0][0]            \n",
            "__________________________________________________________________________________________________\n",
            "conv2d_24 (Conv2D)              (None, 28, 28, 512)  2359808     conv2d_23[0][0]                  \n",
            "__________________________________________________________________________________________________\n",
            "conv2d_9 (Conv2D)               (None, 28, 28, 512)  2359808     conv2d_8[0][0]                   \n",
            "__________________________________________________________________________________________________\n",
            "conv2d_25 (Conv2D)              (None, 28, 28, 512)  2359808     conv2d_24[0][0]                  \n",
            "__________________________________________________________________________________________________\n",
            "conv2d_10 (Conv2D)              (None, 28, 28, 512)  2359808     conv2d_9[0][0]                   \n",
            "__________________________________________________________________________________________________\n",
            "max_pooling2d_9 (MaxPooling2D)  (None, 14, 14, 512)  0           conv2d_25[0][0]                  \n",
            "__________________________________________________________________________________________________\n",
            "max_pooling2d_4 (MaxPooling2D)  (None, 14, 14, 512)  0           conv2d_10[0][0]                  \n",
            "__________________________________________________________________________________________________\n",
            "conv2d_26 (Conv2D)              (None, 14, 14, 512)  2359808     max_pooling2d_9[0][0]            \n",
            "__________________________________________________________________________________________________\n",
            "conv2d_11 (Conv2D)              (None, 14, 14, 512)  2359808     max_pooling2d_4[0][0]            \n",
            "__________________________________________________________________________________________________\n",
            "conv2d_27 (Conv2D)              (None, 14, 14, 512)  2359808     conv2d_26[0][0]                  \n",
            "__________________________________________________________________________________________________\n",
            "conv2d_12 (Conv2D)              (None, 14, 14, 512)  2359808     conv2d_11[0][0]                  \n",
            "__________________________________________________________________________________________________\n",
            "conv2d_28 (Conv2D)              (None, 14, 14, 512)  2359808     conv2d_27[0][0]                  \n",
            "__________________________________________________________________________________________________\n",
            "conv2d_13 (Conv2D)              (None, 14, 14, 512)  2359808     conv2d_12[0][0]                  \n",
            "__________________________________________________________________________________________________\n",
            "conv2d_29 (Conv2D)              (None, 14, 14, 512)  2359808     conv2d_28[0][0]                  \n",
            "__________________________________________________________________________________________________\n",
            "max_pooling2d_5 (MaxPooling2D)  (None, 7, 7, 512)    0           conv2d_13[0][0]                  \n",
            "__________________________________________________________________________________________________\n",
            "max_pooling2d_10 (MaxPooling2D) (None, 7, 7, 512)    0           conv2d_29[0][0]                  \n",
            "__________________________________________________________________________________________________\n",
            "flatten_1 (Flatten)             (None, 25088)        0           max_pooling2d_5[0][0]            \n",
            "__________________________________________________________________________________________________\n",
            "flatten_2 (Flatten)             (None, 25088)        0           max_pooling2d_10[0][0]           \n",
            "__________________________________________________________________________________________________\n",
            "concatenate_1 (Concatenate)     (None, 50176)        0           flatten_1[0][0]                  \n",
            "                                                                 flatten_2[0][0]                  \n",
            "__________________________________________________________________________________________________\n",
            "dense_1 (Dense)                 (None, 4096)         205524992   concatenate_1[0][0]              \n",
            "__________________________________________________________________________________________________\n",
            "dense_2 (Dense)                 (None, 4096)         16781312    dense_1[0][0]                    \n",
            "__________________________________________________________________________________________________\n",
            "dense_3 (Dense)                 (None, 2)            8194        dense_2[0][0]                    \n",
            "==================================================================================================\n",
            "Total params: 258,823,298\n",
            "Trainable params: 258,823,298\n",
            "Non-trainable params: 0\n",
            "__________________________________________________________________________________________________\n"
          ],
          "name": "stdout"
        }
      ]
    },
    {
      "cell_type": "code",
      "metadata": {
        "id": "tEfr-IvtVQJS",
        "colab": {
          "base_uri": "https://localhost:8080/",
          "height": 1000
        },
        "outputId": "76911048-88e6-4628-e5e6-97607154b8ed"
      },
      "source": [
        "model.summary()"
      ],
      "execution_count": null,
      "outputs": [
        {
          "output_type": "stream",
          "text": [
            "Model: \"model_1\"\n",
            "__________________________________________________________________________________________________\n",
            "Layer (type)                    Output Shape         Param #     Connected to                     \n",
            "==================================================================================================\n",
            "input_3 (InputLayer)            (None, 224, 224, 3)  0                                            \n",
            "__________________________________________________________________________________________________\n",
            "conv2d_14 (Conv2D)              (None, 224, 224, 64) 1792        input_3[0][0]                    \n",
            "__________________________________________________________________________________________________\n",
            "conv2d_15 (Conv2D)              (None, 224, 224, 64) 36928       conv2d_14[0][0]                  \n",
            "__________________________________________________________________________________________________\n",
            "max_pooling2d_6 (MaxPooling2D)  (None, 112, 112, 64) 0           conv2d_15[0][0]                  \n",
            "__________________________________________________________________________________________________\n",
            "conv2d_1 (Conv2D)               (None, 224, 224, 64) 1792        input_3[0][0]                    \n",
            "__________________________________________________________________________________________________\n",
            "conv2d_16 (Conv2D)              (None, 112, 112, 128 73856       max_pooling2d_6[0][0]            \n",
            "__________________________________________________________________________________________________\n",
            "conv2d_2 (Conv2D)               (None, 224, 224, 64) 36928       conv2d_1[0][0]                   \n",
            "__________________________________________________________________________________________________\n",
            "conv2d_17 (Conv2D)              (None, 112, 112, 128 147584      conv2d_16[0][0]                  \n",
            "__________________________________________________________________________________________________\n",
            "max_pooling2d_1 (MaxPooling2D)  (None, 112, 112, 64) 0           conv2d_2[0][0]                   \n",
            "__________________________________________________________________________________________________\n",
            "max_pooling2d_7 (MaxPooling2D)  (None, 56, 56, 128)  0           conv2d_17[0][0]                  \n",
            "__________________________________________________________________________________________________\n",
            "conv2d_3 (Conv2D)               (None, 112, 112, 128 73856       max_pooling2d_1[0][0]            \n",
            "__________________________________________________________________________________________________\n",
            "conv2d_18 (Conv2D)              (None, 56, 56, 256)  295168      max_pooling2d_7[0][0]            \n",
            "__________________________________________________________________________________________________\n",
            "conv2d_4 (Conv2D)               (None, 112, 112, 128 147584      conv2d_3[0][0]                   \n",
            "__________________________________________________________________________________________________\n",
            "conv2d_19 (Conv2D)              (None, 56, 56, 256)  590080      conv2d_18[0][0]                  \n",
            "__________________________________________________________________________________________________\n",
            "max_pooling2d_2 (MaxPooling2D)  (None, 56, 56, 128)  0           conv2d_4[0][0]                   \n",
            "__________________________________________________________________________________________________\n",
            "conv2d_20 (Conv2D)              (None, 56, 56, 256)  590080      conv2d_19[0][0]                  \n",
            "__________________________________________________________________________________________________\n",
            "conv2d_5 (Conv2D)               (None, 56, 56, 256)  295168      max_pooling2d_2[0][0]            \n",
            "__________________________________________________________________________________________________\n",
            "conv2d_21 (Conv2D)              (None, 56, 56, 512)  1180160     conv2d_20[0][0]                  \n",
            "__________________________________________________________________________________________________\n",
            "conv2d_6 (Conv2D)               (None, 56, 56, 256)  590080      conv2d_5[0][0]                   \n",
            "__________________________________________________________________________________________________\n",
            "max_pooling2d_8 (MaxPooling2D)  (None, 28, 28, 512)  0           conv2d_21[0][0]                  \n",
            "__________________________________________________________________________________________________\n",
            "conv2d_7 (Conv2D)               (None, 56, 56, 256)  590080      conv2d_6[0][0]                   \n",
            "__________________________________________________________________________________________________\n",
            "conv2d_22 (Conv2D)              (None, 28, 28, 512)  2359808     max_pooling2d_8[0][0]            \n",
            "__________________________________________________________________________________________________\n",
            "max_pooling2d_3 (MaxPooling2D)  (None, 28, 28, 256)  0           conv2d_7[0][0]                   \n",
            "__________________________________________________________________________________________________\n",
            "conv2d_23 (Conv2D)              (None, 28, 28, 512)  2359808     conv2d_22[0][0]                  \n",
            "__________________________________________________________________________________________________\n",
            "conv2d_8 (Conv2D)               (None, 28, 28, 512)  1180160     max_pooling2d_3[0][0]            \n",
            "__________________________________________________________________________________________________\n",
            "conv2d_24 (Conv2D)              (None, 28, 28, 512)  2359808     conv2d_23[0][0]                  \n",
            "__________________________________________________________________________________________________\n",
            "conv2d_9 (Conv2D)               (None, 28, 28, 512)  2359808     conv2d_8[0][0]                   \n",
            "__________________________________________________________________________________________________\n",
            "conv2d_25 (Conv2D)              (None, 28, 28, 512)  2359808     conv2d_24[0][0]                  \n",
            "__________________________________________________________________________________________________\n",
            "conv2d_10 (Conv2D)              (None, 28, 28, 512)  2359808     conv2d_9[0][0]                   \n",
            "__________________________________________________________________________________________________\n",
            "max_pooling2d_9 (MaxPooling2D)  (None, 14, 14, 512)  0           conv2d_25[0][0]                  \n",
            "__________________________________________________________________________________________________\n",
            "max_pooling2d_4 (MaxPooling2D)  (None, 14, 14, 512)  0           conv2d_10[0][0]                  \n",
            "__________________________________________________________________________________________________\n",
            "conv2d_26 (Conv2D)              (None, 14, 14, 512)  2359808     max_pooling2d_9[0][0]            \n",
            "__________________________________________________________________________________________________\n",
            "conv2d_11 (Conv2D)              (None, 14, 14, 512)  2359808     max_pooling2d_4[0][0]            \n",
            "__________________________________________________________________________________________________\n",
            "conv2d_27 (Conv2D)              (None, 14, 14, 512)  2359808     conv2d_26[0][0]                  \n",
            "__________________________________________________________________________________________________\n",
            "conv2d_12 (Conv2D)              (None, 14, 14, 512)  2359808     conv2d_11[0][0]                  \n",
            "__________________________________________________________________________________________________\n",
            "conv2d_28 (Conv2D)              (None, 14, 14, 512)  2359808     conv2d_27[0][0]                  \n",
            "__________________________________________________________________________________________________\n",
            "conv2d_13 (Conv2D)              (None, 14, 14, 512)  2359808     conv2d_12[0][0]                  \n",
            "__________________________________________________________________________________________________\n",
            "conv2d_29 (Conv2D)              (None, 14, 14, 512)  2359808     conv2d_28[0][0]                  \n",
            "__________________________________________________________________________________________________\n",
            "max_pooling2d_5 (MaxPooling2D)  (None, 7, 7, 512)    0           conv2d_13[0][0]                  \n",
            "__________________________________________________________________________________________________\n",
            "max_pooling2d_10 (MaxPooling2D) (None, 7, 7, 512)    0           conv2d_29[0][0]                  \n",
            "__________________________________________________________________________________________________\n",
            "flatten_1 (Flatten)             (None, 25088)        0           max_pooling2d_5[0][0]            \n",
            "__________________________________________________________________________________________________\n",
            "flatten_2 (Flatten)             (None, 25088)        0           max_pooling2d_10[0][0]           \n",
            "__________________________________________________________________________________________________\n",
            "concatenate_1 (Concatenate)     (None, 50176)        0           flatten_1[0][0]                  \n",
            "                                                                 flatten_2[0][0]                  \n",
            "__________________________________________________________________________________________________\n",
            "dense_1 (Dense)                 (None, 4096)         205524992   concatenate_1[0][0]              \n",
            "__________________________________________________________________________________________________\n",
            "dense_2 (Dense)                 (None, 4096)         16781312    dense_1[0][0]                    \n",
            "__________________________________________________________________________________________________\n",
            "dense_3 (Dense)                 (None, 2)            8194        dense_2[0][0]                    \n",
            "==================================================================================================\n",
            "Total params: 258,823,298\n",
            "Trainable params: 258,823,298\n",
            "Non-trainable params: 0\n",
            "__________________________________________________________________________________________________\n"
          ],
          "name": "stdout"
        }
      ]
    },
    {
      "cell_type": "code",
      "metadata": {
        "id": "oasspScdUKNo"
      },
      "source": [
        "datagen = ImageDataGenerator(rescale=1./255)\n",
        "batch_size = 10"
      ],
      "execution_count": null,
      "outputs": []
    },
    {
      "cell_type": "code",
      "metadata": {
        "id": "87HkKijERwtL",
        "colab": {
          "base_uri": "https://localhost:8080/",
          "height": 54
        },
        "outputId": "fc6eb37f-9f1d-428d-a693-2a29c7483bbf"
      },
      "source": [
        "train_datagen = ImageDataGenerator(\n",
        "        rescale=1./255,\n",
        "        rotation_range=15,\n",
        "        width_shift_range=0.05,\n",
        "        height_shift_range=0.05,\n",
        "        shear_range=0.05,\n",
        "        zoom_range=0.2,\n",
        "        horizontal_flip=True,\n",
        "        vertical_flip=True)\n",
        "\n",
        "test_datagen = ImageDataGenerator(rescale=1./255)\n",
        "\n",
        "train_generator = train_datagen.flow_from_directory(\n",
        "        train,\n",
        "        target_size=(224, 224),  # all images will be resized to 224x224\n",
        "        batch_size=batch_size,\n",
        "        class_mode='categorical')  # more than two classes\n",
        "\n",
        "validation_generator = test_datagen.flow_from_directory(\n",
        "        valid,\n",
        "        target_size=(224, 224),\n",
        "        batch_size=batch_size,\n",
        "        class_mode='categorical',\n",
        "        shuffle = False\n",
        ")"
      ],
      "execution_count": null,
      "outputs": [
        {
          "output_type": "stream",
          "text": [
            "Found 962 images belonging to 2 classes.\n",
            "Found 206 images belonging to 2 classes.\n"
          ],
          "name": "stdout"
        }
      ]
    },
    {
      "cell_type": "code",
      "metadata": {
        "id": "uyD7kyZVR0kp"
      },
      "source": [
        "model.compile(loss='categorical_crossentropy',\n",
        "              optimizer=optimizers.Adam(lr=2e-5),\n",
        "              metrics=['acc'])"
      ],
      "execution_count": null,
      "outputs": []
    },
    {
      "cell_type": "code",
      "metadata": {
        "id": "-Z87S74eR36y",
        "colab": {
          "base_uri": "https://localhost:8080/",
          "height": 1000
        },
        "outputId": "c42ef541-221d-4744-e766-bf9254f7bd06"
      },
      "source": [
        "history = model.fit_generator(\n",
        "          train_generator,\n",
        "          steps_per_epoch=100,\n",
        "          epochs=30,\n",
        "          validation_data=validation_generator)"
      ],
      "execution_count": null,
      "outputs": [
        {
          "output_type": "stream",
          "text": [
            "Epoch 1/30\n",
            "100/100 [==============================] - 158s 2s/step - loss: 0.6936 - acc: 0.5000 - val_loss: 0.6870 - val_acc: 0.5000\n",
            "Epoch 2/30\n",
            "100/100 [==============================] - 58s 584ms/step - loss: 0.6951 - acc: 0.5393 - val_loss: 0.8056 - val_acc: 0.5000\n",
            "Epoch 3/30\n",
            "100/100 [==============================] - 57s 575ms/step - loss: 0.6854 - acc: 0.5467 - val_loss: 0.6243 - val_acc: 0.5000\n",
            "Epoch 4/30\n",
            "100/100 [==============================] - 58s 582ms/step - loss: 0.6730 - acc: 0.5850 - val_loss: 1.2793 - val_acc: 0.6845\n",
            "Epoch 5/30\n",
            "100/100 [==============================] - 58s 577ms/step - loss: 0.6486 - acc: 0.6331 - val_loss: 0.5939 - val_acc: 0.8010\n",
            "Epoch 6/30\n",
            "100/100 [==============================] - 58s 580ms/step - loss: 0.6167 - acc: 0.6804 - val_loss: 0.9867 - val_acc: 0.7427\n",
            "Epoch 7/30\n",
            "100/100 [==============================] - 58s 577ms/step - loss: 0.5958 - acc: 0.6880 - val_loss: 1.0952 - val_acc: 0.7087\n",
            "Epoch 8/30\n",
            "100/100 [==============================] - 58s 582ms/step - loss: 0.5621 - acc: 0.7190 - val_loss: 1.4757 - val_acc: 0.6068\n",
            "Epoch 9/30\n",
            "100/100 [==============================] - 58s 579ms/step - loss: 0.6030 - acc: 0.6946 - val_loss: 0.7592 - val_acc: 0.8544\n",
            "Epoch 10/30\n",
            "100/100 [==============================] - 58s 578ms/step - loss: 0.5650 - acc: 0.7188 - val_loss: 0.9791 - val_acc: 0.7476\n",
            "Epoch 11/30\n",
            "100/100 [==============================] - 58s 577ms/step - loss: 0.5374 - acc: 0.7520 - val_loss: 1.1212 - val_acc: 0.7476\n",
            "Epoch 12/30\n",
            "100/100 [==============================] - 58s 577ms/step - loss: 0.5247 - acc: 0.7540 - val_loss: 0.9676 - val_acc: 0.7330\n",
            "Epoch 13/30\n",
            "100/100 [==============================] - 58s 578ms/step - loss: 0.5441 - acc: 0.7409 - val_loss: 1.7897 - val_acc: 0.5728\n",
            "Epoch 14/30\n",
            "100/100 [==============================] - 58s 580ms/step - loss: 0.5142 - acc: 0.7610 - val_loss: 0.5532 - val_acc: 0.8447\n",
            "Epoch 15/30\n",
            "100/100 [==============================] - 58s 577ms/step - loss: 0.5158 - acc: 0.7550 - val_loss: 0.9158 - val_acc: 0.7136\n",
            "Epoch 16/30\n",
            "100/100 [==============================] - 58s 575ms/step - loss: 0.4751 - acc: 0.7713 - val_loss: 0.4441 - val_acc: 0.7913\n",
            "Epoch 17/30\n",
            "100/100 [==============================] - 58s 581ms/step - loss: 0.4831 - acc: 0.7690 - val_loss: 0.3951 - val_acc: 0.7233\n",
            "Epoch 18/30\n",
            "100/100 [==============================] - 58s 577ms/step - loss: 0.4970 - acc: 0.7651 - val_loss: 0.4127 - val_acc: 0.7087\n",
            "Epoch 19/30\n",
            "100/100 [==============================] - 57s 574ms/step - loss: 0.4644 - acc: 0.7896 - val_loss: 0.5040 - val_acc: 0.7476\n",
            "Epoch 20/30\n",
            "100/100 [==============================] - 58s 578ms/step - loss: 0.4534 - acc: 0.7890 - val_loss: 0.7356 - val_acc: 0.7184\n",
            "Epoch 21/30\n",
            "100/100 [==============================] - 58s 576ms/step - loss: 0.4300 - acc: 0.8034 - val_loss: 1.4087 - val_acc: 0.7184\n",
            "Epoch 22/30\n",
            "100/100 [==============================] - 57s 574ms/step - loss: 0.4620 - acc: 0.7825 - val_loss: 0.0301 - val_acc: 0.7864\n",
            "Epoch 23/30\n",
            "100/100 [==============================] - 58s 580ms/step - loss: 0.4596 - acc: 0.7920 - val_loss: 0.5937 - val_acc: 0.6553\n",
            "Epoch 24/30\n",
            "100/100 [==============================] - 58s 576ms/step - loss: 0.4427 - acc: 0.7876 - val_loss: 0.3292 - val_acc: 0.7621\n",
            "Epoch 25/30\n",
            "100/100 [==============================] - 58s 581ms/step - loss: 0.4169 - acc: 0.8080 - val_loss: 0.2261 - val_acc: 0.8204\n",
            "Epoch 26/30\n",
            "100/100 [==============================] - 57s 574ms/step - loss: 0.4211 - acc: 0.7896 - val_loss: 0.0556 - val_acc: 0.9126\n",
            "Epoch 27/30\n",
            "100/100 [==============================] - 58s 576ms/step - loss: 0.3768 - acc: 0.8135 - val_loss: 0.0655 - val_acc: 0.8155\n",
            "Epoch 28/30\n",
            "100/100 [==============================] - 58s 579ms/step - loss: 0.3885 - acc: 0.8080 - val_loss: 1.1850 - val_acc: 0.7573\n",
            "Epoch 29/30\n",
            "100/100 [==============================] - 57s 573ms/step - loss: 0.4191 - acc: 0.8028 - val_loss: 0.4974 - val_acc: 0.8010\n",
            "Epoch 30/30\n",
            "100/100 [==============================] - 58s 576ms/step - loss: 0.3772 - acc: 0.8095 - val_loss: 0.4807 - val_acc: 0.8883\n"
          ],
          "name": "stdout"
        }
      ]
    },
    {
      "cell_type": "code",
      "metadata": {
        "id": "b1MJfyEMD7Fx"
      },
      "source": [],
      "execution_count": null,
      "outputs": []
    },
    {
      "cell_type": "markdown",
      "metadata": {
        "id": "f1ib8mCuSFo4"
      },
      "source": [
        "Fine Tuning"
      ]
    },
    {
      "cell_type": "code",
      "metadata": {
        "id": "AzeiJY_gSBFE"
      },
      "source": [
        "conv_base.trainable = True\n",
        "\n",
        "set_trainable = False\n",
        "for layer in conv_base.layers:\n",
        "    if layer.name == 'block5_conv1':\n",
        "        set_trainable = True\n",
        "    if set_trainable:\n",
        "        layer.trainable = True\n",
        "    else:\n",
        "        layer.trainable = False"
      ],
      "execution_count": null,
      "outputs": []
    },
    {
      "cell_type": "code",
      "metadata": {
        "id": "zCl-w0MmSLUE"
      },
      "source": [
        "model.compile(loss='binary_crossentropy',\n",
        "              optimizer=optimizers.Adam(lr=2e-5),\n",
        "              metrics=['acc'])"
      ],
      "execution_count": null,
      "outputs": []
    },
    {
      "cell_type": "code",
      "metadata": {
        "id": "tufW5w94SOGV"
      },
      "source": [
        "history = model.fit_generator(\n",
        "    train_generator,\n",
        "    steps_per_epoch=100,\n",
        "    epochs=50,\n",
        "    validation_data=validation_generator,\n",
        "    validation_steps=50)"
      ],
      "execution_count": null,
      "outputs": []
    }
  ]
}