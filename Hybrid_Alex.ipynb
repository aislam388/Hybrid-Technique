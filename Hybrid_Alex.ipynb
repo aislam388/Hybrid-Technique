{
  "nbformat": 4,
  "nbformat_minor": 0,
  "metadata": {
    "colab": {
      "provenance": [],
      "mount_file_id": "1Z0wSRpbGN6TMeYeZ1k4HGRAwtGy9l1oA",
      "authorship_tag": "ABX9TyNszfpaOJmo1EwJoVR09flD",
      "include_colab_link": true
    },
    "kernelspec": {
      "name": "python3",
      "display_name": "Python 3"
    },
    "accelerator": "GPU"
  },
  "cells": [
    {
      "cell_type": "markdown",
      "metadata": {
        "id": "view-in-github",
        "colab_type": "text"
      },
      "source": [
        "<a href=\"https://colab.research.google.com/github/aislam388/Hybrid-Technique/blob/main/Hybrid_Alex.ipynb\" target=\"_parent\"><img src=\"https://colab.research.google.com/assets/colab-badge.svg\" alt=\"Open In Colab\"/></a>"
      ]
    },
    {
      "cell_type": "code",
      "metadata": {
        "id": "9LolSEnL_ibI",
        "colab": {
          "base_uri": "https://localhost:8080/",
          "height": 74
        },
        "outputId": "3e0d4327-18ac-4292-9e08-4bc5f4e3aea3"
      },
      "source": [
        "import os\n",
        "import shutil\n",
        "from os.path import isfile, join, abspath, exists, isdir, expanduser\n",
        "from os import listdir, makedirs, getcwd, remove\n",
        "from pathlib import Path\n",
        "import numpy as np\n",
        "import pandas as pd\n",
        "import seaborn as sns\n",
        "sns.set_style('darkgrid')\n",
        "import matplotlib.pyplot as plt\n",
        "import matplotlib.image as mimg\n",
        "# plotly\n",
        "import plotly as py\n",
        "from plotly.offline import init_notebook_mode, iplot\n",
        "init_notebook_mode(connected=True)\n",
        "import plotly.graph_objs as go\n",
        "import plotly.express as px\n",
        "\n",
        "import tensorflow as tf\n",
        "from plotly.graph_objs import *\n",
        "from sklearn.preprocessing import LabelEncoder\n",
        "from keras.preprocessing.image import ImageDataGenerator,load_img, img_to_array\n",
        "from keras import layers\n",
        "from keras import models\n",
        "from keras import optimizers\n",
        "import keras"
      ],
      "execution_count": null,
      "outputs": [
        {
          "output_type": "stream",
          "text": [
            "/usr/local/lib/python3.6/dist-packages/statsmodels/tools/_testing.py:19: FutureWarning: pandas.util.testing is deprecated. Use the functions in the public API at pandas.testing instead.\n",
            "  import pandas.util.testing as tm\n"
          ],
          "name": "stderr"
        },
        {
          "output_type": "display_data",
          "data": {
            "text/html": [
              "        <script type=\"text/javascript\">\n",
              "        window.PlotlyConfig = {MathJaxConfig: 'local'};\n",
              "        if (window.MathJax) {MathJax.Hub.Config({SVG: {font: \"STIX-Web\"}});}\n",
              "        if (typeof require !== 'undefined') {\n",
              "        require.undef(\"plotly\");\n",
              "        requirejs.config({\n",
              "            paths: {\n",
              "                'plotly': ['https://cdn.plot.ly/plotly-latest.min']\n",
              "            }\n",
              "        });\n",
              "        require(['plotly'], function(Plotly) {\n",
              "            window._Plotly = Plotly;\n",
              "        });\n",
              "        }\n",
              "        </script>\n",
              "        "
            ]
          },
          "metadata": {
            "tags": []
          }
        }
      ]
    },
    {
      "cell_type": "code",
      "metadata": {
        "id": "wlGaK_fqATs8"
      },
      "source": [
        "from keras.layers import Input, Lambda, Dense, Flatten\n",
        "from keras.models import Model\n",
        "from keras.preprocessing import image\n",
        "from keras.preprocessing.image import ImageDataGenerator\n",
        "from keras.models import Sequential\n",
        "import numpy as np\n",
        "from glob import glob\n",
        "import matplotlib.pyplot as plt\n",
        "import os\n",
        "from PIL import Image"
      ],
      "execution_count": null,
      "outputs": []
    },
    {
      "cell_type": "code",
      "metadata": {
        "id": "gxUb68ObAWoq",
        "colab": {
          "base_uri": "https://localhost:8080/",
          "height": 36
        },
        "outputId": "285431e3-24aa-423d-ed48-3330b5652433"
      },
      "source": [
        "input_path = \"/content/drive/My Drive/LIDC-IDRI-0001/01-01-2000-30178/3000566-03192/\"\n",
        "# train and valid = flowr_path\n",
        "train = input_path+\"/Training/\"\n",
        "valid = input_path+\"/Validation/\"\n",
        "print(train)"
      ],
      "execution_count": null,
      "outputs": [
        {
          "output_type": "stream",
          "text": [
            "/content/drive/My Drive/LIDC-IDRI-0001/01-01-2000-30178/3000566-03192//Training/\n"
          ],
          "name": "stdout"
        }
      ]
    },
    {
      "cell_type": "code",
      "metadata": {
        "id": "_7eNcdgmAY2Z",
        "colab": {
          "base_uri": "https://localhost:8080/",
          "height": 54
        },
        "outputId": "df228c2c-bf89-4c9c-af16-f338593dec15"
      },
      "source": [
        "# classes = flower_types\n",
        "classes = os.listdir(train)\n",
        "print(\"No of classes: \", len(classes))\n",
        "print(\"Class Labels: \", classes)"
      ],
      "execution_count": null,
      "outputs": [
        {
          "output_type": "stream",
          "text": [
            "No of classes:  2\n",
            "Class Labels:  ['Positive', 'Negative']\n"
          ],
          "name": "stdout"
        }
      ]
    },
    {
      "cell_type": "code",
      "metadata": {
        "id": "CE_mdmZKAdgI"
      },
      "source": [
        "# from keras.applications import VGG16\n",
        "# from keras.applications.vgg16 import preprocess_input\n",
        "# weights_vgg16 = \"/content/drive/My Drive/LIDC-IDRI-0001/01-01-2000-30178/3000566-03192/vgg16_weights_tf_dim_ordering_tf_kernels_notop.h5\"\n",
        "# conv_base_16= VGG16(weights=weights_vgg16,\n",
        "#                  include_top= False,\n",
        "#                  input_shape = (224,224,3))"
      ],
      "execution_count": null,
      "outputs": []
    },
    {
      "cell_type": "code",
      "metadata": {
        "id": "bhxOlWqgAmlS"
      },
      "source": [
        "# def _get_features_16(img_path):\n",
        "#   img = image.load_img(img_path, target_size=(224,224))\n",
        "#   img_data = image.img_to_array(img)\n",
        "#   img_data = np.expand_dims(img_data, axis=0)\n",
        "#   img_data = preprocess_input(img_data)\n",
        "#   vgg16_features = conv_base_16.predict(img_data)\n",
        "#   return vgg16_features"
      ],
      "execution_count": null,
      "outputs": []
    },
    {
      "cell_type": "code",
      "metadata": {
        "id": "lGMa3rpPApPX"
      },
      "source": [
        "# import pandas as pd\n",
        "# train_list = []\n",
        "\n",
        "# # images = species_num, labels = species, train_list = train, train = train_dir\n",
        "# for images, labels in enumerate(classes):\n",
        "#   for file in os.listdir(os.path.join(train+ labels)):\n",
        "#       train_list.append(['/content/drive/My Drive/LIDC-IDRI-0001/01-01-2000-30178/3000566-03192/Training/{}/{}'.format(labels, file), images, labels])\n",
        "        \n",
        "# train_list = pd.DataFrame(train_list, columns=['file', 'images', 'labels'])\n",
        "\n",
        "# print('Training Data: ',train_list.shape)"
      ],
      "execution_count": null,
      "outputs": []
    },
    {
      "cell_type": "code",
      "metadata": {
        "id": "YigKWOfDAqYQ"
      },
      "source": [
        "# features = []\n",
        "# for i in range(len(train_list)):\n",
        "#   features.append(_get_features_16(train_list['file'][i]))"
      ],
      "execution_count": null,
      "outputs": []
    },
    {
      "cell_type": "code",
      "metadata": {
        "id": "IQlPaWX-AuH8"
      },
      "source": [
        "# print(features[1].shape)\n",
        "# from keras.layers import Input, Conv2D, MaxPool2D\n",
        "# from keras.layers import Dense, Flatten\n",
        "# from keras.models import Model"
      ],
      "execution_count": null,
      "outputs": []
    },
    {
      "cell_type": "code",
      "metadata": {
        "id": "ne0k2HDiAz1I"
      },
      "source": [
        "# from keras.applications import VGG19\n",
        "# from keras.applications.vgg19 import preprocess_input\n",
        "# weights_vgg19 = \"/content/drive/My Drive/LIDC-IDRI-0001/01-01-2000-30178/3000566-03192/vgg19_weights_tf_dim_ordering_tf_kernels_notop.h5\"\n",
        "# conv_base_19 = VGG19(weights=weights_vgg19,\n",
        "#                      include_top=False,\n",
        "#                      input_shape = (224,224,3))"
      ],
      "execution_count": null,
      "outputs": []
    },
    {
      "cell_type": "code",
      "metadata": {
        "id": "GQfpCIhjA2j_"
      },
      "source": [
        "# def _get_features_19(img_path):\n",
        "#   img = image.load_img(img_path, target_size=(224,224))\n",
        "#   img_data = image.img_to_array(img)\n",
        "#   img_data = np.expand_dims(img_data, axis=0)\n",
        "#   img_data = preprocess_input(img_data)\n",
        "#   vgg19_features = conv_base_19.predict(img_data)\n",
        "#   return vgg19_features"
      ],
      "execution_count": null,
      "outputs": []
    },
    {
      "cell_type": "code",
      "metadata": {
        "id": "oVCMdSHjA71k"
      },
      "source": [
        "from keras.layers import Input, Lambda, Dense, Flatten\n",
        "from keras.models import Model\n",
        "from keras.preprocessing import image\n",
        "from keras.preprocessing.image import ImageDataGenerator\n",
        "from keras.models import Sequential\n",
        "import numpy as np\n",
        "from glob import glob\n",
        "import matplotlib.pyplot as plt\n",
        "import os\n",
        "from PIL import Image"
      ],
      "execution_count": null,
      "outputs": []
    },
    {
      "cell_type": "code",
      "metadata": {
        "id": "acBPMVD8A_Dy"
      },
      "source": [
        "from keras.utils import plot_model\n",
        "from keras.models import Model\n",
        "from keras.layers import Input\n",
        "from keras.layers import Dense\n",
        "from keras.layers import Flatten\n",
        "from keras.layers.convolutional import Conv2D\n",
        "from keras.layers.pooling import MaxPool2D\n",
        "from keras.layers.merge import concatenate"
      ],
      "execution_count": null,
      "outputs": []
    },
    {
      "cell_type": "code",
      "metadata": {
        "id": "Syyiy0bBEEo5"
      },
      "source": [
        "classifier =Sequential()"
      ],
      "execution_count": null,
      "outputs": []
    },
    {
      "cell_type": "code",
      "metadata": {
        "id": "Yy55S7RrBE9m",
        "colab": {
          "base_uri": "https://localhost:8080/",
          "height": 1000
        },
        "outputId": "8e4108d0-6941-4624-b865-04a7a76adea5"
      },
      "source": [
        "_input = keras.Input(shape=(224,224,3))\n",
        "\n",
        "conv1 = Conv2D(filters=64, kernel_size=(3,3), padding = \"same\", activation=\"relu\")(_input)\n",
        "conv2 = Conv2D(filters=64, kernel_size=(3,3), padding = \"same\", activation=\"relu\")(conv1)\n",
        "pool1 = MaxPool2D((2,2))(conv2)\n",
        "\n",
        "conv3 = Conv2D(filters=128, kernel_size=(3,3), padding = \"same\", activation=\"relu\")(pool1)\n",
        "conv4 = Conv2D(filters=128, kernel_size=(3,3), padding = \"same\", activation=\"relu\")(conv3)\n",
        "pool2 = MaxPool2D((2,2))(conv4)\n",
        "\n",
        "\n",
        "conv5 = Conv2D(filters=256, kernel_size=(3,3), padding = \"same\", activation=\"relu\")(pool2)\n",
        "conv6 = Conv2D(filters=256, kernel_size=(3,3), padding = \"same\", activation=\"relu\")(conv5)\n",
        "conv7 = Conv2D(filters=256, kernel_size=(3,3), padding = \"same\", activation=\"relu\")(conv6)\n",
        "pool3 = MaxPool2D((2,2))(conv7)\n",
        "\n",
        "\n",
        "conv8 = Conv2D(filters=512, kernel_size=(3,3), padding = \"same\", activation=\"relu\")(pool3)\n",
        "conv9 = Conv2D(filters=512, kernel_size=(3,3), padding = \"same\", activation=\"relu\")(conv8)\n",
        "conv10 = Conv2D(filters=512, kernel_size=(3,3), padding = \"same\", activation=\"relu\")(conv9)\n",
        "pool4 = MaxPool2D((2,2))(conv10)\n",
        "\n",
        "\n",
        "conv11 = Conv2D(filters=512, kernel_size=(3,3), padding = \"same\", activation=\"relu\")(pool4)\n",
        "conv12 = Conv2D(filters=512, kernel_size=(3,3), padding = \"same\", activation=\"relu\")(conv11)\n",
        "conv13 = Conv2D(filters=512, kernel_size=(3,3), padding = \"same\", activation=\"relu\")(conv12)\n",
        "pool5 = MaxPool2D((2,2))(conv13)\n",
        "\n",
        "flat1 = Flatten()(pool5)\n",
        "\n",
        "# Second FEature extractor VGG19\n",
        "conv2_1 = Conv2D(filters=64, kernel_size=(3,3),strides=(1,1), padding = \"same\", activation=\"relu\")(_input)\n",
        "conv2_2 = Conv2D(filters=64, kernel_size=(3,3),strides=(1,1), padding = \"same\", activation=\"relu\")(conv2_1)\n",
        "pool2_1 = MaxPool2D((2,2))(conv2_2)\n",
        "\n",
        "conv2_3 = Conv2D(filters=128, kernel_size=(3,3),strides=(1,1), padding = \"same\", activation=\"relu\")(pool2_1)\n",
        "conv2_4 = Conv2D(filters=128, kernel_size=(3,3),strides=(1,1), padding = \"same\", activation=\"relu\")(conv2_3)\n",
        "pool2_2 = MaxPool2D((2,2))(conv2_4)\n",
        "\n",
        "\n",
        "conv2_5 = Conv2D(filters=256, kernel_size=(3,3),strides=(1,1), padding = \"same\", activation=\"relu\")(pool2_2)\n",
        "conv2_6 = Conv2D(filters=256, kernel_size=(3,3),strides=(1,1), padding = \"same\", activation=\"relu\")(conv2_5)\n",
        "conv2_7 = Conv2D(filters=256, kernel_size=(3,3),strides=(1,1), padding = \"same\", activation=\"relu\")(conv2_6)\n",
        "conv2_8 = Conv2D(filters=512, kernel_size=(3,3),strides=(1,1), padding = \"same\", activation=\"relu\")(conv2_7)\n",
        "pool2_3 = MaxPool2D((2,2))(conv2_8)\n",
        "\n",
        "\n",
        "conv2_9 = Conv2D(filters=512, kernel_size=(3,3),strides=(1,1), padding = \"same\", activation=\"relu\")(pool2_3)\n",
        "conv2_10 = Conv2D(filters=512, kernel_size=(3,3),strides=(1,1), padding = \"same\", activation=\"relu\")(conv2_9)\n",
        "conv2_11 = Conv2D(filters=512, kernel_size=(3,3),strides=(1,1), padding = \"same\", activation=\"relu\")(conv2_10)\n",
        "conv2_12 = Conv2D(filters=512, kernel_size=(3,3),strides=(1,1), padding = \"same\", activation=\"relu\")(conv2_11)\n",
        "pool2_4 = MaxPool2D((2,2))(conv2_12)\n",
        "\n",
        "\n",
        "conv2_13 = Conv2D(filters=512, kernel_size=(3,3),strides=(1,1), padding = \"same\", activation=\"relu\")(pool2_4)\n",
        "conv2_14 = Conv2D(filters=512, kernel_size=(3,3),strides=(1,1),padding = \"same\", activation=\"relu\")(conv2_13)\n",
        "conv2_15 = Conv2D(filters=512, kernel_size=(3,3),strides=(1,1), padding = \"same\", activation=\"relu\")(conv2_14)\n",
        "conv2_16 = Conv2D(filters=512, kernel_size=(3,3),strides=(1,1), padding = \"same\", activation=\"relu\")(conv2_15)\n",
        "pool2_5 = MaxPool2D((2,2))(conv2_16)\n",
        "\n",
        "flat2 = Flatten()(pool2_5)\n",
        "\n",
        "merge = concatenate([flat1, flat2])\n",
        "\n",
        "# third input for alexnet\n",
        "# classifier.add(Conv2D((96, 11, strides = (4, 4), padding = 'valid', input_shape=(224, 224, 3), activation = 'relu')))\n",
        "conv3_1 = Conv2D(filters=96,kernel_size=(11,11), strides=(4,4),padding=\"valid\", activation='relu')(_input)\n",
        "# classifier.add(MaxPooling2D(pool_size = (2, 2), strides = (2, 2), padding = 'valid'))\n",
        "pool3_1 = MaxPool2D((2,2),strides=(2,2),padding='valid')(conv3_1)\n",
        "conv3_2 = Conv2D(filters=256,kernel_size=(11,11),strides=(1,1),padding='valid',activation='relu')(pool3_1)\n",
        "pool3_2 = MaxPool2D((2,2),strides=(2,2),padding='valid')(conv3_2)\n",
        "conv3_3 = Conv2D(filters=384,kernel_size=(3,3),strides=(1,1),padding='valid',activation='relu')(pool3_2)\n",
        "conv3_4 = Conv2D(filters=384,kernel_size=(3,3),strides=(1,1),padding='valid',activation='relu')(conv3_3)\n",
        "conv3_5 = Conv2D(filters=256,kernel_size=(3,3),strides=(1,1),padding='valid',activation='relu')(conv3_4)\n",
        "pool3_3 = MaxPool2D((2,2),strides=(2,2),padding='valid')(conv3_5)\n",
        "\n",
        "flat3 = Flatten()(pool3_3)\n",
        "\n",
        "merge2 = concatenate([merge,flat3])\n",
        "\n",
        "\n",
        "\n",
        "dense1 = Dense(4096, activation=\"relu\")(merge2)\n",
        "dense2 = Dense(4096, activation=\"relu\")(dense1)\n",
        "dense3 = Dense(1000, activation='relu')(dense2)\n",
        "output = Dense(2, activation=\"softmax\")(dense3)\n",
        "\n",
        "model = Model(inputs=_input, outputs=output)\n",
        "\n",
        "print(model.summary())"
      ],
      "execution_count": null,
      "outputs": [
        {
          "output_type": "stream",
          "text": [
            "Model: \"functional_3\"\n",
            "__________________________________________________________________________________________________\n",
            "Layer (type)                    Output Shape         Param #     Connected to                     \n",
            "==================================================================================================\n",
            "input_6 (InputLayer)            [(None, 224, 224, 3) 0                                            \n",
            "__________________________________________________________________________________________________\n",
            "conv2d_183 (Conv2D)             (None, 224, 224, 64) 1792        input_6[0][0]                    \n",
            "__________________________________________________________________________________________________\n",
            "conv2d_184 (Conv2D)             (None, 224, 224, 64) 36928       conv2d_183[0][0]                 \n",
            "__________________________________________________________________________________________________\n",
            "max_pooling2d_70 (MaxPooling2D) (None, 112, 112, 64) 0           conv2d_184[0][0]                 \n",
            "__________________________________________________________________________________________________\n",
            "conv2d_170 (Conv2D)             (None, 224, 224, 64) 1792        input_6[0][0]                    \n",
            "__________________________________________________________________________________________________\n",
            "conv2d_185 (Conv2D)             (None, 112, 112, 128 73856       max_pooling2d_70[0][0]           \n",
            "__________________________________________________________________________________________________\n",
            "conv2d_171 (Conv2D)             (None, 224, 224, 64) 36928       conv2d_170[0][0]                 \n",
            "__________________________________________________________________________________________________\n",
            "conv2d_186 (Conv2D)             (None, 112, 112, 128 147584      conv2d_185[0][0]                 \n",
            "__________________________________________________________________________________________________\n",
            "max_pooling2d_65 (MaxPooling2D) (None, 112, 112, 64) 0           conv2d_171[0][0]                 \n",
            "__________________________________________________________________________________________________\n",
            "max_pooling2d_71 (MaxPooling2D) (None, 56, 56, 128)  0           conv2d_186[0][0]                 \n",
            "__________________________________________________________________________________________________\n",
            "conv2d_172 (Conv2D)             (None, 112, 112, 128 73856       max_pooling2d_65[0][0]           \n",
            "__________________________________________________________________________________________________\n",
            "conv2d_187 (Conv2D)             (None, 56, 56, 256)  295168      max_pooling2d_71[0][0]           \n",
            "__________________________________________________________________________________________________\n",
            "conv2d_173 (Conv2D)             (None, 112, 112, 128 147584      conv2d_172[0][0]                 \n",
            "__________________________________________________________________________________________________\n",
            "conv2d_188 (Conv2D)             (None, 56, 56, 256)  590080      conv2d_187[0][0]                 \n",
            "__________________________________________________________________________________________________\n",
            "max_pooling2d_66 (MaxPooling2D) (None, 56, 56, 128)  0           conv2d_173[0][0]                 \n",
            "__________________________________________________________________________________________________\n",
            "conv2d_189 (Conv2D)             (None, 56, 56, 256)  590080      conv2d_188[0][0]                 \n",
            "__________________________________________________________________________________________________\n",
            "conv2d_174 (Conv2D)             (None, 56, 56, 256)  295168      max_pooling2d_66[0][0]           \n",
            "__________________________________________________________________________________________________\n",
            "conv2d_190 (Conv2D)             (None, 56, 56, 512)  1180160     conv2d_189[0][0]                 \n",
            "__________________________________________________________________________________________________\n",
            "conv2d_175 (Conv2D)             (None, 56, 56, 256)  590080      conv2d_174[0][0]                 \n",
            "__________________________________________________________________________________________________\n",
            "max_pooling2d_72 (MaxPooling2D) (None, 28, 28, 512)  0           conv2d_190[0][0]                 \n",
            "__________________________________________________________________________________________________\n",
            "conv2d_176 (Conv2D)             (None, 56, 56, 256)  590080      conv2d_175[0][0]                 \n",
            "__________________________________________________________________________________________________\n",
            "conv2d_191 (Conv2D)             (None, 28, 28, 512)  2359808     max_pooling2d_72[0][0]           \n",
            "__________________________________________________________________________________________________\n",
            "max_pooling2d_67 (MaxPooling2D) (None, 28, 28, 256)  0           conv2d_176[0][0]                 \n",
            "__________________________________________________________________________________________________\n",
            "conv2d_192 (Conv2D)             (None, 28, 28, 512)  2359808     conv2d_191[0][0]                 \n",
            "__________________________________________________________________________________________________\n",
            "conv2d_177 (Conv2D)             (None, 28, 28, 512)  1180160     max_pooling2d_67[0][0]           \n",
            "__________________________________________________________________________________________________\n",
            "conv2d_193 (Conv2D)             (None, 28, 28, 512)  2359808     conv2d_192[0][0]                 \n",
            "__________________________________________________________________________________________________\n",
            "conv2d_178 (Conv2D)             (None, 28, 28, 512)  2359808     conv2d_177[0][0]                 \n",
            "__________________________________________________________________________________________________\n",
            "conv2d_194 (Conv2D)             (None, 28, 28, 512)  2359808     conv2d_193[0][0]                 \n",
            "__________________________________________________________________________________________________\n",
            "conv2d_199 (Conv2D)             (None, 54, 54, 96)   34944       input_6[0][0]                    \n",
            "__________________________________________________________________________________________________\n",
            "conv2d_179 (Conv2D)             (None, 28, 28, 512)  2359808     conv2d_178[0][0]                 \n",
            "__________________________________________________________________________________________________\n",
            "max_pooling2d_73 (MaxPooling2D) (None, 14, 14, 512)  0           conv2d_194[0][0]                 \n",
            "__________________________________________________________________________________________________\n",
            "max_pooling2d_75 (MaxPooling2D) (None, 27, 27, 96)   0           conv2d_199[0][0]                 \n",
            "__________________________________________________________________________________________________\n",
            "max_pooling2d_68 (MaxPooling2D) (None, 14, 14, 512)  0           conv2d_179[0][0]                 \n",
            "__________________________________________________________________________________________________\n",
            "conv2d_195 (Conv2D)             (None, 14, 14, 512)  2359808     max_pooling2d_73[0][0]           \n",
            "__________________________________________________________________________________________________\n",
            "conv2d_200 (Conv2D)             (None, 17, 17, 256)  2973952     max_pooling2d_75[0][0]           \n",
            "__________________________________________________________________________________________________\n",
            "conv2d_180 (Conv2D)             (None, 14, 14, 512)  2359808     max_pooling2d_68[0][0]           \n",
            "__________________________________________________________________________________________________\n",
            "conv2d_196 (Conv2D)             (None, 14, 14, 512)  2359808     conv2d_195[0][0]                 \n",
            "__________________________________________________________________________________________________\n",
            "max_pooling2d_76 (MaxPooling2D) (None, 8, 8, 256)    0           conv2d_200[0][0]                 \n",
            "__________________________________________________________________________________________________\n",
            "conv2d_181 (Conv2D)             (None, 14, 14, 512)  2359808     conv2d_180[0][0]                 \n",
            "__________________________________________________________________________________________________\n",
            "conv2d_197 (Conv2D)             (None, 14, 14, 512)  2359808     conv2d_196[0][0]                 \n",
            "__________________________________________________________________________________________________\n",
            "conv2d_201 (Conv2D)             (None, 6, 6, 384)    885120      max_pooling2d_76[0][0]           \n",
            "__________________________________________________________________________________________________\n",
            "conv2d_182 (Conv2D)             (None, 14, 14, 512)  2359808     conv2d_181[0][0]                 \n",
            "__________________________________________________________________________________________________\n",
            "conv2d_198 (Conv2D)             (None, 14, 14, 512)  2359808     conv2d_197[0][0]                 \n",
            "__________________________________________________________________________________________________\n",
            "conv2d_202 (Conv2D)             (None, 4, 4, 384)    1327488     conv2d_201[0][0]                 \n",
            "__________________________________________________________________________________________________\n",
            "max_pooling2d_69 (MaxPooling2D) (None, 7, 7, 512)    0           conv2d_182[0][0]                 \n",
            "__________________________________________________________________________________________________\n",
            "max_pooling2d_74 (MaxPooling2D) (None, 7, 7, 512)    0           conv2d_198[0][0]                 \n",
            "__________________________________________________________________________________________________\n",
            "conv2d_203 (Conv2D)             (None, 2, 2, 256)    884992      conv2d_202[0][0]                 \n",
            "__________________________________________________________________________________________________\n",
            "flatten_15 (Flatten)            (None, 25088)        0           max_pooling2d_69[0][0]           \n",
            "__________________________________________________________________________________________________\n",
            "flatten_16 (Flatten)            (None, 25088)        0           max_pooling2d_74[0][0]           \n",
            "__________________________________________________________________________________________________\n",
            "max_pooling2d_77 (MaxPooling2D) (None, 1, 1, 256)    0           conv2d_203[0][0]                 \n",
            "__________________________________________________________________________________________________\n",
            "concatenate_3 (Concatenate)     (None, 50176)        0           flatten_15[0][0]                 \n",
            "                                                                 flatten_16[0][0]                 \n",
            "__________________________________________________________________________________________________\n",
            "flatten_17 (Flatten)            (None, 256)          0           max_pooling2d_77[0][0]           \n",
            "__________________________________________________________________________________________________\n",
            "concatenate_4 (Concatenate)     (None, 50432)        0           concatenate_3[0][0]              \n",
            "                                                                 flatten_17[0][0]                 \n",
            "__________________________________________________________________________________________________\n",
            "dense_7 (Dense)                 (None, 4096)         206573568   concatenate_4[0][0]              \n",
            "__________________________________________________________________________________________________\n",
            "dense_8 (Dense)                 (None, 4096)         16781312    dense_7[0][0]                    \n",
            "__________________________________________________________________________________________________\n",
            "dense_9 (Dense)                 (None, 1000)         4097000     dense_8[0][0]                    \n",
            "__________________________________________________________________________________________________\n",
            "dense_10 (Dense)                (None, 2)            2002        dense_9[0][0]                    \n",
            "==================================================================================================\n",
            "Total params: 270,069,178\n",
            "Trainable params: 270,069,178\n",
            "Non-trainable params: 0\n",
            "__________________________________________________________________________________________________\n",
            "None\n"
          ],
          "name": "stdout"
        }
      ]
    },
    {
      "cell_type": "code",
      "metadata": {
        "id": "6H6V1wylBInE"
      },
      "source": [
        "# optimizer = keras.optimizers.Adam()\n",
        "# model.compile(loss='categorical_crossentropy',\n",
        "#               optimizer=optimizer,\n",
        "#               metrics=['accuracy'])"
      ],
      "execution_count": null,
      "outputs": []
    },
    {
      "cell_type": "code",
      "metadata": {
        "id": "oKjpgYQMBJdI"
      },
      "source": [
        "datagen = ImageDataGenerator(rescale=1./255)\n",
        "batch_size = 10"
      ],
      "execution_count": null,
      "outputs": []
    },
    {
      "cell_type": "code",
      "metadata": {
        "id": "I6a8FuZkBPnU",
        "colab": {
          "base_uri": "https://localhost:8080/",
          "height": 54
        },
        "outputId": "e636b159-58c0-4a15-a80e-6c465055e1ec"
      },
      "source": [
        "train_datagen = ImageDataGenerator(\n",
        "        rescale=1./255,\n",
        "        rotation_range=15,\n",
        "        width_shift_range=0.05,\n",
        "        height_shift_range=0.05,\n",
        "        shear_range=0.05,\n",
        "        # zoom_range=0.2,\n",
        "        horizontal_flip=True,\n",
        "        vertical_flip=True,)\n",
        "\n",
        "test_datagen = ImageDataGenerator(rescale=1./255)\n",
        "\n",
        "train_generator = train_datagen.flow_from_directory(\n",
        "        train,\n",
        "        target_size=(224, 224),  # all images will be resized to 224x224\n",
        "        batch_size=batch_size,\n",
        "        class_mode='categorical')  # more than two classes\n",
        "\n",
        "validation_generator = test_datagen.flow_from_directory(\n",
        "        valid,\n",
        "        target_size=(224, 224),\n",
        "        batch_size=batch_size,\n",
        "        class_mode='categorical',\n",
        "        shuffle = False\n",
        ")"
      ],
      "execution_count": null,
      "outputs": [
        {
          "output_type": "stream",
          "text": [
            "Found 962 images belonging to 2 classes.\n",
            "Found 206 images belonging to 2 classes.\n"
          ],
          "name": "stdout"
        }
      ]
    },
    {
      "cell_type": "code",
      "metadata": {
        "id": "sMGM2zEdBRKy"
      },
      "source": [
        "model.compile(loss='categorical_crossentropy',\n",
        "              optimizer=optimizers.Adam(lr=0.001),\n",
        "              metrics=['acc'])"
      ],
      "execution_count": null,
      "outputs": []
    },
    {
      "cell_type": "markdown",
      "metadata": {
        "id": "6yLmbcIQpL7j"
      },
      "source": []
    },
    {
      "cell_type": "code",
      "metadata": {
        "id": "RC3fIQEeBUDU",
        "colab": {
          "base_uri": "https://localhost:8080/",
          "height": 112
        },
        "outputId": "368a15c6-8673-410b-f804-46882313034f"
      },
      "source": [
        "history = model.fit_generator(\n",
        "          train_generator,\n",
        "          steps_per_epoch=100,\n",
        "          epochs=50,\n",
        "          validation_data=validation_generator)"
      ],
      "execution_count": null,
      "outputs": [
        {
          "output_type": "stream",
          "text": [
            "Epoch 1/50\n",
            "  2/100 [..............................] - ETA: 34s - loss: 0.6926 - acc: 0.5500WARNING:tensorflow:Callbacks method `on_train_batch_end` is slow compared to the batch time (batch time: 0.1279s vs `on_train_batch_end` time: 0.2796s). Check your callbacks.\n",
            " 97/100 [============================>.] - ETA: 1s - loss: 0.6934 - acc: 0.4813WARNING:tensorflow:Your input ran out of data; interrupting training. Make sure that your dataset or generator can generate at least `steps_per_epoch * epochs` batches (in this case, 5000 batches). You may need to use the repeat() function when building your dataset.\n",
            " 97/100 [============================>.] - 43s 446ms/step - loss: 0.6934 - acc: 0.4813 - val_loss: 0.6932 - val_acc: 0.5000\n"
          ],
          "name": "stdout"
        }
      ]
    },
    {
      "cell_type": "code",
      "metadata": {
        "id": "_toYTDJS9pa2"
      },
      "source": [
        "import pandas as pd\n",
        "\n",
        "hist_pd =pd.DataFrame(history.history)"
      ],
      "execution_count": null,
      "outputs": []
    }
  ]
}