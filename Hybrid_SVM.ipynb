{
  "nbformat": 4,
  "nbformat_minor": 0,
  "metadata": {
    "colab": {
      "provenance": [],
      "mount_file_id": "1IJ6LR2e9fmDzPylybN4dRlaLaTbFlhZv",
      "authorship_tag": "ABX9TyNwWlmss3DRL8bNgLX2gP9m",
      "include_colab_link": true
    },
    "kernelspec": {
      "name": "python3",
      "display_name": "Python 3"
    },
    "accelerator": "GPU"
  },
  "cells": [
    {
      "cell_type": "markdown",
      "metadata": {
        "id": "view-in-github",
        "colab_type": "text"
      },
      "source": [
        "<a href=\"https://colab.research.google.com/github/aislam388/Hybrid-Technique/blob/main/Hybrid_SVM.ipynb\" target=\"_parent\"><img src=\"https://colab.research.google.com/assets/colab-badge.svg\" alt=\"Open In Colab\"/></a>"
      ]
    },
    {
      "cell_type": "code",
      "metadata": {
        "id": "hmCicaoF1RmC",
        "colab": {
          "base_uri": "https://localhost:8080/",
          "height": 17
        },
        "outputId": "fe625dfe-27de-4864-853e-f4e2737a7017"
      },
      "source": [
        "import os\n",
        "import shutil\n",
        "from os.path import isfile, join, abspath, exists, isdir, expanduser\n",
        "from os import listdir, makedirs, getcwd, remove\n",
        "from pathlib import Path\n",
        "import numpy as np\n",
        "import pandas as pd\n",
        "import seaborn as sns\n",
        "sns.set_style('darkgrid')\n",
        "import matplotlib.pyplot as plt\n",
        "import matplotlib.image as mimg\n",
        "# plotly\n",
        "import plotly as py\n",
        "from plotly.offline import init_notebook_mode, iplot\n",
        "init_notebook_mode(connected=True)\n",
        "import plotly.graph_objs as go\n",
        "import plotly.express as px\n",
        "\n",
        "import tensorflow as tf\n",
        "from plotly.graph_objs import *\n",
        "from sklearn.preprocessing import LabelEncoder\n",
        "from keras.preprocessing.image import ImageDataGenerator,load_img, img_to_array\n",
        "from keras import layers\n",
        "from keras import models\n",
        "from keras import optimizers\n",
        "import keras"
      ],
      "execution_count": null,
      "outputs": [
        {
          "output_type": "display_data",
          "data": {
            "text/html": [
              "        <script type=\"text/javascript\">\n",
              "        window.PlotlyConfig = {MathJaxConfig: 'local'};\n",
              "        if (window.MathJax) {MathJax.Hub.Config({SVG: {font: \"STIX-Web\"}});}\n",
              "        if (typeof require !== 'undefined') {\n",
              "        require.undef(\"plotly\");\n",
              "        requirejs.config({\n",
              "            paths: {\n",
              "                'plotly': ['https://cdn.plot.ly/plotly-latest.min']\n",
              "            }\n",
              "        });\n",
              "        require(['plotly'], function(Plotly) {\n",
              "            window._Plotly = Plotly;\n",
              "        });\n",
              "        }\n",
              "        </script>\n",
              "        "
            ]
          },
          "metadata": {
            "tags": []
          }
        }
      ]
    },
    {
      "cell_type": "code",
      "metadata": {
        "id": "J5emEaaQhfad"
      },
      "source": [
        "from keras.utils import plot_model\n",
        "from keras.models import Model\n",
        "from keras.layers import Input\n",
        "from keras.layers import Dense\n",
        "from keras.layers import Flatten\n",
        "from keras.layers.convolutional import Conv2D\n",
        "from keras.layers.pooling import MaxPooling2D\n",
        "from keras.layers.merge import concatenate"
      ],
      "execution_count": null,
      "outputs": []
    },
    {
      "cell_type": "code",
      "metadata": {
        "id": "S7Wta6WeZLx3"
      },
      "source": [
        "input_path = \"/content/drive/My Drive/LIDC-IDRI-0001/01-01-2000-30178/3000566-03192/\"\n",
        "# train and valid = flowr_path\n",
        "train = input_path+\"/Training/\"\n",
        "valid = input_path+\"/Validation/\""
      ],
      "execution_count": null,
      "outputs": []
    },
    {
      "cell_type": "code",
      "metadata": {
        "id": "v1hXAkmXupnl",
        "colab": {
          "base_uri": "https://localhost:8080/",
          "height": 54
        },
        "outputId": "5bede8ee-df9c-4db8-ff64-5938611ff589"
      },
      "source": [
        "# classes = flower_types\n",
        "classes = os.listdir(train)\n",
        "print(\"No of classes: \", len(classes))\n",
        "print(\"Class Labels: \", classes)"
      ],
      "execution_count": null,
      "outputs": [
        {
          "output_type": "stream",
          "text": [
            "No of classes:  2\n",
            "Class Labels:  ['Positive', 'Negative']\n"
          ],
          "name": "stdout"
        }
      ]
    },
    {
      "cell_type": "code",
      "metadata": {
        "id": "M1HMxaMfxxg_"
      },
      "source": [
        "from keras.applications import VGG16\n",
        "from keras.applications.vgg16 import preprocess_input\n",
        "weights_vgg16 = \"/content/drive/My Drive/LIDC-IDRI-0001/01-01-2000-30178/3000566-03192/vgg16_weights_tf_dim_ordering_tf_kernels_notop.h5\"\n",
        "conv_base_16= VGG16(weights=weights_vgg16,\n",
        "                 include_top= False,\n",
        "                 input_shape = (224,224,3))"
      ],
      "execution_count": null,
      "outputs": []
    },
    {
      "cell_type": "code",
      "metadata": {
        "id": "1FsmfbeQNCdm"
      },
      "source": [
        "from keras.applications import VGG19\n",
        "from keras.applications.vgg16 import preprocess_input\n",
        "weights_vgg19 = \"/content/drive/My Drive/LIDC-IDRI-0001/01-01-2000-30178/3000566-03192/vgg19_weights_tf_dim_ordering_tf_kernels_notop.h5\"\n",
        "weights_vgg16 = \"/content/drive/My Drive/LIDC-IDRI-0001/01-01-2000-30178/3000566-03192/vgg16_weights_tf_dim_ordering_tf_kernels_notop.h5\"\n",
        "conv_base_19= VGG19(weights=weights_vgg19,\n",
        "                 include_top= False,\n",
        "                 input_shape = (224,224,3))"
      ],
      "execution_count": null,
      "outputs": []
    },
    {
      "cell_type": "code",
      "metadata": {
        "id": "8Fyr44HUN0qt"
      },
      "source": [
        "from keras.layers import Input, Lambda, Dense, Flatten\n",
        "from keras.models import Model\n",
        "from keras.preprocessing import image\n",
        "from keras.preprocessing.image import ImageDataGenerator\n",
        "from keras.models import Sequential\n",
        "import numpy as np\n",
        "from glob import glob\n",
        "import matplotlib.pyplot as plt\n",
        "import os\n",
        "from PIL import Image\n"
      ],
      "execution_count": null,
      "outputs": []
    },
    {
      "cell_type": "code",
      "metadata": {
        "id": "O5JkQJLfN6l-"
      },
      "source": [
        "def _get_features_16(img_path):\n",
        "  img = image.load_img(img_path, target_size=(224,224))\n",
        "  img_data = image.img_to_array(img)\n",
        "  img_data = np.expand_dims(img_data, axis=0)\n",
        "  img_data = preprocess_input(img_data)\n",
        "  vgg16_features = conv_base_16.predict(img_data)\n",
        "  return vgg16_features"
      ],
      "execution_count": null,
      "outputs": []
    },
    {
      "cell_type": "code",
      "metadata": {
        "id": "fgNwn8isN6uT"
      },
      "source": [
        "def _get_features_19(img_path):\n",
        "  img = image.load_img(img_path, target_size=(224,224))\n",
        "  img_data = image.img_to_array(img)\n",
        "  img_data = np.expand_dims(img_data, axis=0)\n",
        "  img_data = preprocess_input(img_data)\n",
        "  vgg19_features = conv_base_19.predict(img_data)\n",
        "  return vgg19_features"
      ],
      "execution_count": null,
      "outputs": []
    },
    {
      "cell_type": "code",
      "metadata": {
        "id": "Esqrr9CAy_tH"
      },
      "source": [
        "# datagen = ImageDataGenerator(rescale=1./255)\n",
        "# batch_size = 10"
      ],
      "execution_count": null,
      "outputs": []
    },
    {
      "cell_type": "code",
      "metadata": {
        "id": "KuizrJ0zzV1T"
      },
      "source": [
        "# # for vgg\n",
        "# def extract_features(directory, sample_count):\n",
        "#     features = [np.zeros((sample_count, 7,7, 512)),np.zeros((sample_count,7,7,512)),np.zeros((sample_count,7,7,512))]\n",
        "#     labels = [np.zeros((sample_count, 2))]\n",
        "\n",
        "#     generator = ImageDataGenerator(rescale=1./255).flow_from_directory(directory,\n",
        "#         target_size=(240, 240),\n",
        "#         batch_size = batch_size, \n",
        "#         class_mode='categorical')\n",
        "\n",
        "#     i = 0\n",
        "\n",
        "#     print('Entering for loop...');\n",
        "\n",
        "    \n",
        "#     for inputs_batch, labels_batch in generator:\n",
        "#         features_batch = conv_base.predict(inputs_batch)\n",
        "#         features[i * batch_size : (i + 1) * batch_size] = features_batch\n",
        "#         labels[i * batch_size : (i + 1) * batch_size] = labels_batch\n",
        "#         i += 1\n",
        "#         if i * batch_size >= sample_count:\n",
        "#             break\n",
        "#     return features, labels"
      ],
      "execution_count": null,
      "outputs": []
    },
    {
      "cell_type": "code",
      "metadata": {
        "id": "hNC16pJFOojH"
      },
      "source": [
        "# # for SVM\n",
        "# def _get_features(img_path):\n",
        "#   img = image.load_img(img_path, target_size=(224,224))\n",
        "#   img_data = image.img_to_array(img)\n",
        "#   img_data = np.expand_dims(img_data, axis=0)\n",
        "#   img_data = preprocess_input(img_data)\n",
        "#   vgg16_features = conv_base.predict(img_data)\n",
        "#   return vgg16_features"
      ],
      "execution_count": null,
      "outputs": []
    },
    {
      "cell_type": "code",
      "metadata": {
        "id": "BwLUwN-izdV2"
      },
      "source": [
        "# train_features, train_labels = extract_features(train, 962)\n",
        "# validation_features, validation_labels = extract_features(valid, 206)"
      ],
      "execution_count": null,
      "outputs": []
    },
    {
      "cell_type": "code",
      "metadata": {
        "id": "sllaU26V0ZDj"
      },
      "source": [
        "# train_features = np.reshape(train_features, (962, 7 * 7 * 512))\n",
        "# validation_features = np.reshape(validation_features, (206, 7 * 7 * 512))"
      ],
      "execution_count": null,
      "outputs": []
    },
    {
      "cell_type": "code",
      "metadata": {
        "id": "lTpxUtuhoYDX"
      },
      "source": [
        "# print(train_features.shape)"
      ],
      "execution_count": null,
      "outputs": []
    },
    {
      "cell_type": "markdown",
      "metadata": {
        "id": "0ezuzL6jWJct"
      },
      "source": [
        "SVM Attempt"
      ]
    },
    {
      "cell_type": "code",
      "metadata": {
        "id": "vLJefrQ5KKAO",
        "colab": {
          "base_uri": "https://localhost:8080/",
          "height": 36
        },
        "outputId": "78feaa5b-11d2-4827-cabe-89ebacab5974"
      },
      "source": [
        "import pandas as pd\n",
        "train_list = []\n",
        "\n",
        "# images = species_num, labels = species, train_list = train, train = train_dir\n",
        "for images, labels in enumerate(classes):\n",
        "  for file in os.listdir(os.path.join(train+ labels)):\n",
        "      train_list.append(['/content/drive/My Drive/LIDC-IDRI-0001/01-01-2000-30178/3000566-03192/Training/{}/{}'.format(labels, file), images, labels])\n",
        "        \n",
        "train_list = pd.DataFrame(train_list, columns=['file', 'images', 'labels'])\n",
        "\n",
        "print('Training Data: ',train_list.shape)"
      ],
      "execution_count": null,
      "outputs": [
        {
          "output_type": "stream",
          "text": [
            "Training Data:  (962, 3)\n"
          ],
          "name": "stdout"
        }
      ]
    },
    {
      "cell_type": "code",
      "metadata": {
        "id": "i1RxcSarbDe0",
        "colab": {
          "base_uri": "https://localhost:8080/",
          "height": 279
        },
        "outputId": "1cb3be77-f056-4cf5-8515-61bd4f0650c2"
      },
      "source": [
        "print(train_list)"
      ],
      "execution_count": null,
      "outputs": [
        {
          "output_type": "stream",
          "text": [
            "                                                  file  images    labels\n",
            "0    /content/drive/My Drive/LIDC-IDRI-0001/01-01-2...       0  Positive\n",
            "1    /content/drive/My Drive/LIDC-IDRI-0001/01-01-2...       0  Positive\n",
            "2    /content/drive/My Drive/LIDC-IDRI-0001/01-01-2...       0  Positive\n",
            "3    /content/drive/My Drive/LIDC-IDRI-0001/01-01-2...       0  Positive\n",
            "4    /content/drive/My Drive/LIDC-IDRI-0001/01-01-2...       0  Positive\n",
            "..                                                 ...     ...       ...\n",
            "957  /content/drive/My Drive/LIDC-IDRI-0001/01-01-2...       1  Negative\n",
            "958  /content/drive/My Drive/LIDC-IDRI-0001/01-01-2...       1  Negative\n",
            "959  /content/drive/My Drive/LIDC-IDRI-0001/01-01-2...       1  Negative\n",
            "960  /content/drive/My Drive/LIDC-IDRI-0001/01-01-2...       1  Negative\n",
            "961  /content/drive/My Drive/LIDC-IDRI-0001/01-01-2...       1  Negative\n",
            "\n",
            "[962 rows x 3 columns]\n"
          ],
          "name": "stdout"
        }
      ]
    },
    {
      "cell_type": "code",
      "metadata": {
        "id": "kt9PNOJXWI-H"
      },
      "source": [
        "features_16 = []\n",
        "for i in range(len(train_list)):\n",
        "  features_16.append(_get_features_16(train_list['file'][i]))"
      ],
      "execution_count": null,
      "outputs": []
    },
    {
      "cell_type": "code",
      "metadata": {
        "id": "ZxGgGXZxf_RN"
      },
      "source": [
        "features_19 = []\n",
        "for i in range(len(train_list)):\n",
        "  features_19.append(_get_features_19(train_list['file'][i]))"
      ],
      "execution_count": null,
      "outputs": []
    },
    {
      "cell_type": "code",
      "metadata": {
        "id": "bMBV531DbuVi",
        "colab": {
          "base_uri": "https://localhost:8080/",
          "height": 1000
        },
        "outputId": "e917d0fd-9719-429c-a8f0-562dc20d716f"
      },
      "source": [
        "print(features_16[1],features_16[1].shape)"
      ],
      "execution_count": null,
      "outputs": [
        {
          "output_type": "stream",
          "text": [
            "[[[[ 0.          0.          0.         ...  0.          0.\n",
            "     0.        ]\n",
            "   [ 0.          0.          0.         ...  0.          0.\n",
            "     0.        ]\n",
            "   [ 0.          0.          0.         ...  0.          0.\n",
            "     0.        ]\n",
            "   ...\n",
            "   [ 0.          0.          0.         ...  0.          0.\n",
            "     0.        ]\n",
            "   [ 0.          0.          0.         ...  0.          0.\n",
            "     0.        ]\n",
            "   [ 0.          0.          0.         ...  0.          9.906739\n",
            "     0.        ]]\n",
            "\n",
            "  [[ 0.          0.          0.         ...  0.          0.\n",
            "     0.        ]\n",
            "   [ 0.          0.          0.         ...  0.          0.\n",
            "     0.        ]\n",
            "   [11.288255    0.         11.650242   ...  0.          0.\n",
            "     0.        ]\n",
            "   ...\n",
            "   [ 0.          7.3503003   3.5132656  ...  3.4352694   0.\n",
            "     0.        ]\n",
            "   [ 0.          0.          0.         ...  0.          0.\n",
            "     0.        ]\n",
            "   [ 0.          0.          0.         ...  0.          9.771076\n",
            "     0.        ]]\n",
            "\n",
            "  [[ 0.          0.          0.         ...  0.          0.\n",
            "     0.        ]\n",
            "   [ 0.          0.6071333   0.         ...  0.          0.\n",
            "     0.        ]\n",
            "   [24.092909    7.35752     0.         ...  0.          0.\n",
            "     0.        ]\n",
            "   ...\n",
            "   [25.423975    2.1251438   1.7129931  ...  0.3549373   0.\n",
            "     0.        ]\n",
            "   [11.266139    0.06288332  0.         ...  0.          1.0717361\n",
            "     0.        ]\n",
            "   [ 0.          0.          0.         ...  0.         27.85956\n",
            "     0.        ]]\n",
            "\n",
            "  ...\n",
            "\n",
            "  [[ 0.          0.          0.         ...  0.          0.\n",
            "     0.        ]\n",
            "   [ 0.          0.838211    1.2501779  ...  0.          0.\n",
            "     0.        ]\n",
            "   [30.798822   30.708067   15.1695385  ...  0.          0.\n",
            "     0.        ]\n",
            "   ...\n",
            "   [26.924702    0.         23.814587   ...  0.          0.\n",
            "     0.        ]\n",
            "   [ 0.          0.          1.781405   ...  0.          0.\n",
            "     0.        ]\n",
            "   [ 0.          0.          0.         ...  0.          0.\n",
            "     0.        ]]\n",
            "\n",
            "  [[ 0.          0.          0.         ...  0.          0.\n",
            "     0.        ]\n",
            "   [ 0.          0.          0.         ...  0.          0.\n",
            "     0.        ]\n",
            "   [15.962405    0.         14.030701   ...  0.          0.\n",
            "     0.        ]\n",
            "   ...\n",
            "   [13.039324    0.         27.11674    ...  0.          0.\n",
            "     0.        ]\n",
            "   [ 0.          0.          6.248825   ...  0.          0.\n",
            "     0.        ]\n",
            "   [ 0.          0.          0.         ...  0.          0.\n",
            "     0.        ]]\n",
            "\n",
            "  [[ 0.          0.          0.         ...  0.          0.\n",
            "     0.        ]\n",
            "   [ 0.          0.          0.         ...  0.          1.1439161\n",
            "     0.        ]\n",
            "   [ 0.          0.          0.         ...  0.          0.\n",
            "     0.        ]\n",
            "   ...\n",
            "   [ 0.          0.          0.         ...  0.          0.\n",
            "     0.        ]\n",
            "   [ 0.          0.          0.         ...  0.          0.\n",
            "     0.        ]\n",
            "   [ 0.          0.          0.         ...  0.         10.382173\n",
            "     0.        ]]]] (1, 7, 7, 512)\n"
          ],
          "name": "stdout"
        }
      ]
    },
    {
      "cell_type": "code",
      "metadata": {
        "id": "BslawiKTC4XZ"
      },
      "source": [
        "tensor_16=[]\n",
        "for i in range(len(features_16)):\n",
        "  tensor_16.append(tf.convert_to_tensor(features_16[i]))"
      ],
      "execution_count": null,
      "outputs": []
    },
    {
      "cell_type": "code",
      "metadata": {
        "id": "UVuONXFgePLX"
      },
      "source": [
        "flat1=[]\n",
        "for i in range(len(features_16)):\n",
        "  tensor = tf.convert_to_tensor(features_16[i])\n",
        "  flat1.append(Flatten()(tensor))"
      ],
      "execution_count": null,
      "outputs": []
    },
    {
      "cell_type": "code",
      "metadata": {
        "id": "BRBkVzJoggl-"
      },
      "source": [
        "flat2=[]\n",
        "for i in range(len(features_19)):\n",
        "  tensor = tf.convert_to_tensor(features_19[i])\n",
        "  flat2.append(Flatten()(tensor))"
      ],
      "execution_count": null,
      "outputs": []
    },
    {
      "cell_type": "code",
      "metadata": {
        "id": "B-A4D3Ozg9hb"
      },
      "source": [
        "merge = []\n",
        "for i in range(len(features_16)):\n",
        "  merge.append(concatenate([flat1[i],flat2[i]]))"
      ],
      "execution_count": null,
      "outputs": []
    },
    {
      "cell_type": "code",
      "metadata": {
        "id": "rVmwBe0figuQ",
        "colab": {
          "base_uri": "https://localhost:8080/",
          "height": 36
        },
        "outputId": "c7ce69bb-4ee9-44e2-bbf2-451aeed79306"
      },
      "source": [
        "print(merge[1],merge[1].shape)"
      ],
      "execution_count": null,
      "outputs": [
        {
          "output_type": "stream",
          "text": [
            "tf.Tensor([[0. 0. 0. ... 0. 0. 0.]], shape=(1, 50176), dtype=float32) (1, 50176)\n"
          ],
          "name": "stdout"
        }
      ]
    },
    {
      "cell_type": "code",
      "metadata": {
        "id": "QvmOhVBLAUdD"
      },
      "source": [
        "# _input= keras.Input(shape=(1,50176))\n",
        "# output_list = []\n",
        "# # for i in range(len(merge)):\n",
        "# dense1 = Dense(10,activation=\"relu\")(merge[i])\n",
        "# dense2 = Dense(10,activation=\"relu\")(dense1)\n",
        "# output = Dense(2,activation=\"softmax\")(dense2)\n",
        "# output_list.append(output)\n",
        "\n",
        "# # model = Model(inputs=_input,outputs=output)"
      ],
      "execution_count": null,
      "outputs": []
    },
    {
      "cell_type": "code",
      "metadata": {
        "id": "y1vORhDhCtDu"
      },
      "source": [
        "# print(output)"
      ],
      "execution_count": null,
      "outputs": []
    },
    {
      "cell_type": "code",
      "metadata": {
        "id": "rhjAFEjuiwwL"
      },
      "source": [
        "# model = models.Sequential()\n",
        "# model.add(layers.Dense(2048, activation='relu')(tensor_16[1]))\n",
        "# model.add(layers.Dropout(0.5))\n",
        "# model.add(layers.Dense(512, activation='relu', input_dim=7 * 7 * 512))\n",
        "# model.add(layers.Dropout(0.5))\n",
        "# model.add(layers.Dense(128, activation='relu', input_dim=7 * 7 * 512))\n",
        "# model.add(layers.Dropout(0.5))\n",
        "# model.add(layers.Dense(2, activation='softmax'))"
      ],
      "execution_count": null,
      "outputs": []
    },
    {
      "cell_type": "markdown",
      "metadata": {
        "id": "sOvLxSqZTPfQ"
      },
      "source": [
        "SVM\n"
      ]
    },
    {
      "cell_type": "code",
      "metadata": {
        "id": "atWx0PuZsP2B"
      },
      "source": [
        "basepath = \"/content/drive/My Drive/LIDC-IDRI-0001/01-01-2000-30178/3000566-03192/\"\n",
        "class1 = os.listdir(basepath + \"Positivepng/\")\n",
        "class2 = os.listdir(basepath + \"Negativepng/\")"
      ],
      "execution_count": null,
      "outputs": []
    },
    {
      "cell_type": "code",
      "metadata": {
        "id": "1jMoHTxMk6R-"
      },
      "source": [
        "data = {'Positivepng': class1[:680], \n",
        "        'Negativepng': class2[:680], \n",
        "        'test': [class1[681], class2[681]]}"
      ],
      "execution_count": null,
      "outputs": []
    },
    {
      "cell_type": "code",
      "metadata": {
        "id": "H16CG1zdnOJ3"
      },
      "source": [
        "features = {\"Positivepng\":[], \"Negativepng\":[], \"test\":[]}\n",
        "test_features = []\n",
        "# test_features2 for features from vgg19\n",
        "test_features2 =[]\n",
        "test_imgs = []\n",
        "lables=[]\n",
        "\n",
        "for label, val in data.items():\n",
        "  # print(label)\n",
        "  for k, each in enumerate(val):\n",
        "    # print(k,each)\n",
        "    if label == \"test\" and k == 0:\n",
        "      img_path = basepath + \"/Positivepng/\" + each \n",
        "      # print(img_path)\n",
        "      test_imgs.append(img_path)\n",
        "    elif label == \"test\" and k == 1:\n",
        "      img_path = basepath + \"/Negativepng/\" + each\n",
        "      # print(img_path)\n",
        "      test_imgs.append(img_path)\n",
        "    else: \n",
        "      img_path = basepath + label.title() + \"/\" + each\n",
        "      # print(img_path)\n",
        "      # print(label.title())\n",
        "      feats = _get_features_16(img_path)\n",
        "      feats2 = _get_features_19(img_path)\n",
        "    # feats = np.resize(feats,(224,224,3))\n",
        "      test_features.append(feats)\n",
        "      test_features2.append(feats2)\n",
        "    # labels.append(labels)\n",
        "    # print(\"dim: \",feats.ndim, feats.shape, feats.dtype)\n",
        "    # print(type(feats))\n",
        "\n",
        "      features[label].append(feats.flatten())\n",
        "      features[label].append(feats2.flatten())\n",
        "    # print(feats,labels)"
      ],
      "execution_count": null,
      "outputs": []
    },
    {
      "cell_type": "code",
      "metadata": {
        "id": "JjGm1W6GtlYv",
        "colab": {
          "base_uri": "https://localhost:8080/",
          "height": 204
        },
        "outputId": "f1fef8c0-d3ec-4db8-bbc9-5b88e888c4e3"
      },
      "source": [
        "print(test_features)"
      ],
      "execution_count": null,
      "outputs": [
        {
          "output_type": "stream",
          "text": [
            "IOPub data rate exceeded.\n",
            "The notebook server will temporarily stop sending output\n",
            "to the client in order to avoid crashing it.\n",
            "To change this limit, set the config variable\n",
            "`--NotebookApp.iopub_data_rate_limit`.\n",
            "\n",
            "Current values:\n",
            "NotebookApp.iopub_data_rate_limit=1000000.0 (bytes/sec)\n",
            "NotebookApp.rate_limit_window=3.0 (secs)\n",
            "\n"
          ],
          "name": "stderr"
        }
      ]
    },
    {
      "cell_type": "code",
      "metadata": {
        "id": "WRyf-wMmtYEL"
      },
      "source": [
        "# implemnting dtaframe for vgg16\n",
        "import pandas as pd\n",
        "test_label =[]\n",
        "dataset = pd.DataFrame(\n",
        ")"
      ],
      "execution_count": null,
      "outputs": []
    },
    {
      "cell_type": "code",
      "metadata": {
        "id": "FTHvfrw_TOyk",
        "colab": {
          "base_uri": "https://localhost:8080/",
          "height": 255
        },
        "outputId": "bc3e5491-3539-452e-b646-255b098a3b74"
      },
      "source": [
        "import pandas as pd\n",
        "test_label=[]\n",
        "dataset = pd.DataFrame()\n",
        "\n",
        "for label, feats in features.items():\n",
        "    # print(label,feats)\n",
        "    test_label.append(label)\n",
        "    temp_df = pd.DataFrame(feats)\n",
        "    temp_df['label'] = label\n",
        "    dataset = dataset.append(temp_df, ignore_index=True)\n",
        "dataset.head()"
      ],
      "execution_count": null,
      "outputs": [
        {
          "output_type": "execute_result",
          "data": {
            "text/html": [
              "<div>\n",
              "<style scoped>\n",
              "    .dataframe tbody tr th:only-of-type {\n",
              "        vertical-align: middle;\n",
              "    }\n",
              "\n",
              "    .dataframe tbody tr th {\n",
              "        vertical-align: top;\n",
              "    }\n",
              "\n",
              "    .dataframe thead th {\n",
              "        text-align: right;\n",
              "    }\n",
              "</style>\n",
              "<table border=\"1\" class=\"dataframe\">\n",
              "  <thead>\n",
              "    <tr style=\"text-align: right;\">\n",
              "      <th></th>\n",
              "      <th>0</th>\n",
              "      <th>1</th>\n",
              "      <th>2</th>\n",
              "      <th>3</th>\n",
              "      <th>4</th>\n",
              "      <th>5</th>\n",
              "      <th>6</th>\n",
              "      <th>7</th>\n",
              "      <th>8</th>\n",
              "      <th>9</th>\n",
              "      <th>10</th>\n",
              "      <th>11</th>\n",
              "      <th>12</th>\n",
              "      <th>13</th>\n",
              "      <th>14</th>\n",
              "      <th>15</th>\n",
              "      <th>16</th>\n",
              "      <th>17</th>\n",
              "      <th>18</th>\n",
              "      <th>19</th>\n",
              "      <th>20</th>\n",
              "      <th>21</th>\n",
              "      <th>22</th>\n",
              "      <th>23</th>\n",
              "      <th>24</th>\n",
              "      <th>25</th>\n",
              "      <th>26</th>\n",
              "      <th>27</th>\n",
              "      <th>28</th>\n",
              "      <th>29</th>\n",
              "      <th>30</th>\n",
              "      <th>31</th>\n",
              "      <th>32</th>\n",
              "      <th>33</th>\n",
              "      <th>34</th>\n",
              "      <th>35</th>\n",
              "      <th>36</th>\n",
              "      <th>37</th>\n",
              "      <th>38</th>\n",
              "      <th>39</th>\n",
              "      <th>...</th>\n",
              "      <th>25049</th>\n",
              "      <th>25050</th>\n",
              "      <th>25051</th>\n",
              "      <th>25052</th>\n",
              "      <th>25053</th>\n",
              "      <th>25054</th>\n",
              "      <th>25055</th>\n",
              "      <th>25056</th>\n",
              "      <th>25057</th>\n",
              "      <th>25058</th>\n",
              "      <th>25059</th>\n",
              "      <th>25060</th>\n",
              "      <th>25061</th>\n",
              "      <th>25062</th>\n",
              "      <th>25063</th>\n",
              "      <th>25064</th>\n",
              "      <th>25065</th>\n",
              "      <th>25066</th>\n",
              "      <th>25067</th>\n",
              "      <th>25068</th>\n",
              "      <th>25069</th>\n",
              "      <th>25070</th>\n",
              "      <th>25071</th>\n",
              "      <th>25072</th>\n",
              "      <th>25073</th>\n",
              "      <th>25074</th>\n",
              "      <th>25075</th>\n",
              "      <th>25076</th>\n",
              "      <th>25077</th>\n",
              "      <th>25078</th>\n",
              "      <th>25079</th>\n",
              "      <th>25080</th>\n",
              "      <th>25081</th>\n",
              "      <th>25082</th>\n",
              "      <th>25083</th>\n",
              "      <th>25084</th>\n",
              "      <th>25085</th>\n",
              "      <th>25086</th>\n",
              "      <th>25087</th>\n",
              "      <th>label</th>\n",
              "    </tr>\n",
              "  </thead>\n",
              "  <tbody>\n",
              "    <tr>\n",
              "      <th>0</th>\n",
              "      <td>0.0</td>\n",
              "      <td>0.0</td>\n",
              "      <td>0.0</td>\n",
              "      <td>0.0</td>\n",
              "      <td>0.0</td>\n",
              "      <td>0.0</td>\n",
              "      <td>0.0</td>\n",
              "      <td>0.0</td>\n",
              "      <td>0.0</td>\n",
              "      <td>0.0</td>\n",
              "      <td>0.0</td>\n",
              "      <td>0.0</td>\n",
              "      <td>0.0</td>\n",
              "      <td>0.0</td>\n",
              "      <td>0.0</td>\n",
              "      <td>0.0</td>\n",
              "      <td>0.0</td>\n",
              "      <td>0.151582</td>\n",
              "      <td>0.0</td>\n",
              "      <td>0.0</td>\n",
              "      <td>0.0</td>\n",
              "      <td>0.0</td>\n",
              "      <td>0.0</td>\n",
              "      <td>0.0</td>\n",
              "      <td>0.0</td>\n",
              "      <td>0.0</td>\n",
              "      <td>0.0</td>\n",
              "      <td>0.0</td>\n",
              "      <td>0.0</td>\n",
              "      <td>0.0</td>\n",
              "      <td>0.0</td>\n",
              "      <td>0.0</td>\n",
              "      <td>0.0</td>\n",
              "      <td>0.0</td>\n",
              "      <td>0.0</td>\n",
              "      <td>0.0</td>\n",
              "      <td>0.0</td>\n",
              "      <td>0.0</td>\n",
              "      <td>0.0</td>\n",
              "      <td>0.0</td>\n",
              "      <td>...</td>\n",
              "      <td>0.0</td>\n",
              "      <td>0.0</td>\n",
              "      <td>0.0</td>\n",
              "      <td>0.0</td>\n",
              "      <td>0.0</td>\n",
              "      <td>0.0</td>\n",
              "      <td>0.000000</td>\n",
              "      <td>0.0</td>\n",
              "      <td>0.0</td>\n",
              "      <td>0.0</td>\n",
              "      <td>0.0</td>\n",
              "      <td>0.0</td>\n",
              "      <td>0.0</td>\n",
              "      <td>0.0</td>\n",
              "      <td>0.0</td>\n",
              "      <td>0.0</td>\n",
              "      <td>0.0</td>\n",
              "      <td>0.0</td>\n",
              "      <td>0.000000</td>\n",
              "      <td>0.0</td>\n",
              "      <td>0.0</td>\n",
              "      <td>0.0</td>\n",
              "      <td>35.489578</td>\n",
              "      <td>0.0</td>\n",
              "      <td>0.0</td>\n",
              "      <td>0.0</td>\n",
              "      <td>0.0</td>\n",
              "      <td>0.0</td>\n",
              "      <td>0.0</td>\n",
              "      <td>8.161168</td>\n",
              "      <td>0.182581</td>\n",
              "      <td>0.0</td>\n",
              "      <td>0.0</td>\n",
              "      <td>0.0</td>\n",
              "      <td>0.0</td>\n",
              "      <td>0.0</td>\n",
              "      <td>0.0</td>\n",
              "      <td>9.253778</td>\n",
              "      <td>0.0</td>\n",
              "      <td>Positivepng</td>\n",
              "    </tr>\n",
              "    <tr>\n",
              "      <th>1</th>\n",
              "      <td>0.0</td>\n",
              "      <td>0.0</td>\n",
              "      <td>0.0</td>\n",
              "      <td>0.0</td>\n",
              "      <td>0.0</td>\n",
              "      <td>0.0</td>\n",
              "      <td>0.0</td>\n",
              "      <td>0.0</td>\n",
              "      <td>0.0</td>\n",
              "      <td>0.0</td>\n",
              "      <td>0.0</td>\n",
              "      <td>0.0</td>\n",
              "      <td>0.0</td>\n",
              "      <td>0.0</td>\n",
              "      <td>0.0</td>\n",
              "      <td>0.0</td>\n",
              "      <td>0.0</td>\n",
              "      <td>8.022945</td>\n",
              "      <td>0.0</td>\n",
              "      <td>0.0</td>\n",
              "      <td>0.0</td>\n",
              "      <td>0.0</td>\n",
              "      <td>0.0</td>\n",
              "      <td>0.0</td>\n",
              "      <td>0.0</td>\n",
              "      <td>0.0</td>\n",
              "      <td>0.0</td>\n",
              "      <td>0.0</td>\n",
              "      <td>0.0</td>\n",
              "      <td>0.0</td>\n",
              "      <td>0.0</td>\n",
              "      <td>0.0</td>\n",
              "      <td>0.0</td>\n",
              "      <td>0.0</td>\n",
              "      <td>0.0</td>\n",
              "      <td>0.0</td>\n",
              "      <td>0.0</td>\n",
              "      <td>0.0</td>\n",
              "      <td>0.0</td>\n",
              "      <td>0.0</td>\n",
              "      <td>...</td>\n",
              "      <td>0.0</td>\n",
              "      <td>0.0</td>\n",
              "      <td>0.0</td>\n",
              "      <td>0.0</td>\n",
              "      <td>0.0</td>\n",
              "      <td>0.0</td>\n",
              "      <td>0.011194</td>\n",
              "      <td>0.0</td>\n",
              "      <td>0.0</td>\n",
              "      <td>0.0</td>\n",
              "      <td>0.0</td>\n",
              "      <td>0.0</td>\n",
              "      <td>0.0</td>\n",
              "      <td>0.0</td>\n",
              "      <td>0.0</td>\n",
              "      <td>0.0</td>\n",
              "      <td>0.0</td>\n",
              "      <td>0.0</td>\n",
              "      <td>5.966062</td>\n",
              "      <td>0.0</td>\n",
              "      <td>0.0</td>\n",
              "      <td>0.0</td>\n",
              "      <td>0.000000</td>\n",
              "      <td>0.0</td>\n",
              "      <td>0.0</td>\n",
              "      <td>0.0</td>\n",
              "      <td>0.0</td>\n",
              "      <td>0.0</td>\n",
              "      <td>0.0</td>\n",
              "      <td>2.500797</td>\n",
              "      <td>1.492267</td>\n",
              "      <td>0.0</td>\n",
              "      <td>0.0</td>\n",
              "      <td>0.0</td>\n",
              "      <td>0.0</td>\n",
              "      <td>0.0</td>\n",
              "      <td>0.0</td>\n",
              "      <td>0.000000</td>\n",
              "      <td>0.0</td>\n",
              "      <td>Positivepng</td>\n",
              "    </tr>\n",
              "    <tr>\n",
              "      <th>2</th>\n",
              "      <td>0.0</td>\n",
              "      <td>0.0</td>\n",
              "      <td>0.0</td>\n",
              "      <td>0.0</td>\n",
              "      <td>0.0</td>\n",
              "      <td>0.0</td>\n",
              "      <td>0.0</td>\n",
              "      <td>0.0</td>\n",
              "      <td>0.0</td>\n",
              "      <td>0.0</td>\n",
              "      <td>0.0</td>\n",
              "      <td>0.0</td>\n",
              "      <td>0.0</td>\n",
              "      <td>0.0</td>\n",
              "      <td>0.0</td>\n",
              "      <td>0.0</td>\n",
              "      <td>0.0</td>\n",
              "      <td>0.220375</td>\n",
              "      <td>0.0</td>\n",
              "      <td>0.0</td>\n",
              "      <td>0.0</td>\n",
              "      <td>0.0</td>\n",
              "      <td>0.0</td>\n",
              "      <td>0.0</td>\n",
              "      <td>0.0</td>\n",
              "      <td>0.0</td>\n",
              "      <td>0.0</td>\n",
              "      <td>0.0</td>\n",
              "      <td>0.0</td>\n",
              "      <td>0.0</td>\n",
              "      <td>0.0</td>\n",
              "      <td>0.0</td>\n",
              "      <td>0.0</td>\n",
              "      <td>0.0</td>\n",
              "      <td>0.0</td>\n",
              "      <td>0.0</td>\n",
              "      <td>0.0</td>\n",
              "      <td>0.0</td>\n",
              "      <td>0.0</td>\n",
              "      <td>0.0</td>\n",
              "      <td>...</td>\n",
              "      <td>0.0</td>\n",
              "      <td>0.0</td>\n",
              "      <td>0.0</td>\n",
              "      <td>0.0</td>\n",
              "      <td>0.0</td>\n",
              "      <td>0.0</td>\n",
              "      <td>0.000000</td>\n",
              "      <td>0.0</td>\n",
              "      <td>0.0</td>\n",
              "      <td>0.0</td>\n",
              "      <td>0.0</td>\n",
              "      <td>0.0</td>\n",
              "      <td>0.0</td>\n",
              "      <td>0.0</td>\n",
              "      <td>0.0</td>\n",
              "      <td>0.0</td>\n",
              "      <td>0.0</td>\n",
              "      <td>0.0</td>\n",
              "      <td>0.000000</td>\n",
              "      <td>0.0</td>\n",
              "      <td>0.0</td>\n",
              "      <td>0.0</td>\n",
              "      <td>33.186703</td>\n",
              "      <td>0.0</td>\n",
              "      <td>0.0</td>\n",
              "      <td>0.0</td>\n",
              "      <td>0.0</td>\n",
              "      <td>0.0</td>\n",
              "      <td>0.0</td>\n",
              "      <td>8.186379</td>\n",
              "      <td>0.472466</td>\n",
              "      <td>0.0</td>\n",
              "      <td>0.0</td>\n",
              "      <td>0.0</td>\n",
              "      <td>0.0</td>\n",
              "      <td>0.0</td>\n",
              "      <td>0.0</td>\n",
              "      <td>9.421498</td>\n",
              "      <td>0.0</td>\n",
              "      <td>Positivepng</td>\n",
              "    </tr>\n",
              "    <tr>\n",
              "      <th>3</th>\n",
              "      <td>0.0</td>\n",
              "      <td>0.0</td>\n",
              "      <td>0.0</td>\n",
              "      <td>0.0</td>\n",
              "      <td>0.0</td>\n",
              "      <td>0.0</td>\n",
              "      <td>0.0</td>\n",
              "      <td>0.0</td>\n",
              "      <td>0.0</td>\n",
              "      <td>0.0</td>\n",
              "      <td>0.0</td>\n",
              "      <td>0.0</td>\n",
              "      <td>0.0</td>\n",
              "      <td>0.0</td>\n",
              "      <td>0.0</td>\n",
              "      <td>0.0</td>\n",
              "      <td>0.0</td>\n",
              "      <td>8.846587</td>\n",
              "      <td>0.0</td>\n",
              "      <td>0.0</td>\n",
              "      <td>0.0</td>\n",
              "      <td>0.0</td>\n",
              "      <td>0.0</td>\n",
              "      <td>0.0</td>\n",
              "      <td>0.0</td>\n",
              "      <td>0.0</td>\n",
              "      <td>0.0</td>\n",
              "      <td>0.0</td>\n",
              "      <td>0.0</td>\n",
              "      <td>0.0</td>\n",
              "      <td>0.0</td>\n",
              "      <td>0.0</td>\n",
              "      <td>0.0</td>\n",
              "      <td>0.0</td>\n",
              "      <td>0.0</td>\n",
              "      <td>0.0</td>\n",
              "      <td>0.0</td>\n",
              "      <td>0.0</td>\n",
              "      <td>0.0</td>\n",
              "      <td>0.0</td>\n",
              "      <td>...</td>\n",
              "      <td>0.0</td>\n",
              "      <td>0.0</td>\n",
              "      <td>0.0</td>\n",
              "      <td>0.0</td>\n",
              "      <td>0.0</td>\n",
              "      <td>0.0</td>\n",
              "      <td>0.000000</td>\n",
              "      <td>0.0</td>\n",
              "      <td>0.0</td>\n",
              "      <td>0.0</td>\n",
              "      <td>0.0</td>\n",
              "      <td>0.0</td>\n",
              "      <td>0.0</td>\n",
              "      <td>0.0</td>\n",
              "      <td>0.0</td>\n",
              "      <td>0.0</td>\n",
              "      <td>0.0</td>\n",
              "      <td>0.0</td>\n",
              "      <td>2.536201</td>\n",
              "      <td>0.0</td>\n",
              "      <td>0.0</td>\n",
              "      <td>0.0</td>\n",
              "      <td>0.000000</td>\n",
              "      <td>0.0</td>\n",
              "      <td>0.0</td>\n",
              "      <td>0.0</td>\n",
              "      <td>0.0</td>\n",
              "      <td>0.0</td>\n",
              "      <td>0.0</td>\n",
              "      <td>2.272427</td>\n",
              "      <td>0.277553</td>\n",
              "      <td>0.0</td>\n",
              "      <td>0.0</td>\n",
              "      <td>0.0</td>\n",
              "      <td>0.0</td>\n",
              "      <td>0.0</td>\n",
              "      <td>0.0</td>\n",
              "      <td>0.000000</td>\n",
              "      <td>0.0</td>\n",
              "      <td>Positivepng</td>\n",
              "    </tr>\n",
              "    <tr>\n",
              "      <th>4</th>\n",
              "      <td>0.0</td>\n",
              "      <td>0.0</td>\n",
              "      <td>0.0</td>\n",
              "      <td>0.0</td>\n",
              "      <td>0.0</td>\n",
              "      <td>0.0</td>\n",
              "      <td>0.0</td>\n",
              "      <td>0.0</td>\n",
              "      <td>0.0</td>\n",
              "      <td>0.0</td>\n",
              "      <td>0.0</td>\n",
              "      <td>0.0</td>\n",
              "      <td>0.0</td>\n",
              "      <td>0.0</td>\n",
              "      <td>0.0</td>\n",
              "      <td>0.0</td>\n",
              "      <td>0.0</td>\n",
              "      <td>0.797628</td>\n",
              "      <td>0.0</td>\n",
              "      <td>0.0</td>\n",
              "      <td>0.0</td>\n",
              "      <td>0.0</td>\n",
              "      <td>0.0</td>\n",
              "      <td>0.0</td>\n",
              "      <td>0.0</td>\n",
              "      <td>0.0</td>\n",
              "      <td>0.0</td>\n",
              "      <td>0.0</td>\n",
              "      <td>0.0</td>\n",
              "      <td>0.0</td>\n",
              "      <td>0.0</td>\n",
              "      <td>0.0</td>\n",
              "      <td>0.0</td>\n",
              "      <td>0.0</td>\n",
              "      <td>0.0</td>\n",
              "      <td>0.0</td>\n",
              "      <td>0.0</td>\n",
              "      <td>0.0</td>\n",
              "      <td>0.0</td>\n",
              "      <td>0.0</td>\n",
              "      <td>...</td>\n",
              "      <td>0.0</td>\n",
              "      <td>0.0</td>\n",
              "      <td>0.0</td>\n",
              "      <td>0.0</td>\n",
              "      <td>0.0</td>\n",
              "      <td>0.0</td>\n",
              "      <td>0.000000</td>\n",
              "      <td>0.0</td>\n",
              "      <td>0.0</td>\n",
              "      <td>0.0</td>\n",
              "      <td>0.0</td>\n",
              "      <td>0.0</td>\n",
              "      <td>0.0</td>\n",
              "      <td>0.0</td>\n",
              "      <td>0.0</td>\n",
              "      <td>0.0</td>\n",
              "      <td>0.0</td>\n",
              "      <td>0.0</td>\n",
              "      <td>0.000000</td>\n",
              "      <td>0.0</td>\n",
              "      <td>0.0</td>\n",
              "      <td>0.0</td>\n",
              "      <td>33.471375</td>\n",
              "      <td>0.0</td>\n",
              "      <td>0.0</td>\n",
              "      <td>0.0</td>\n",
              "      <td>0.0</td>\n",
              "      <td>0.0</td>\n",
              "      <td>0.0</td>\n",
              "      <td>7.080626</td>\n",
              "      <td>0.676197</td>\n",
              "      <td>0.0</td>\n",
              "      <td>0.0</td>\n",
              "      <td>0.0</td>\n",
              "      <td>0.0</td>\n",
              "      <td>0.0</td>\n",
              "      <td>0.0</td>\n",
              "      <td>10.279336</td>\n",
              "      <td>0.0</td>\n",
              "      <td>Positivepng</td>\n",
              "    </tr>\n",
              "  </tbody>\n",
              "</table>\n",
              "<p>5 rows × 25089 columns</p>\n",
              "</div>"
            ],
            "text/plain": [
              "     0    1    2    3    4  ...  25084  25085      25086  25087        label\n",
              "0  0.0  0.0  0.0  0.0  0.0  ...    0.0    0.0   9.253778    0.0  Positivepng\n",
              "1  0.0  0.0  0.0  0.0  0.0  ...    0.0    0.0   0.000000    0.0  Positivepng\n",
              "2  0.0  0.0  0.0  0.0  0.0  ...    0.0    0.0   9.421498    0.0  Positivepng\n",
              "3  0.0  0.0  0.0  0.0  0.0  ...    0.0    0.0   0.000000    0.0  Positivepng\n",
              "4  0.0  0.0  0.0  0.0  0.0  ...    0.0    0.0  10.279336    0.0  Positivepng\n",
              "\n",
              "[5 rows x 25089 columns]"
            ]
          },
          "metadata": {
            "tags": []
          },
          "execution_count": 35
        }
      ]
    },
    {
      "cell_type": "code",
      "metadata": {
        "id": "KLs6cQ03ntP6"
      },
      "source": [
        "y = dataset[dataset.label != 'test'].label\n",
        "X = dataset[dataset.label != 'test'].drop('label', axis=1)"
      ],
      "execution_count": null,
      "outputs": []
    },
    {
      "cell_type": "code",
      "metadata": {
        "id": "QxYG1SO3nvxR",
        "colab": {
          "base_uri": "https://localhost:8080/",
          "height": 54
        },
        "outputId": "b058762d-2d94-44a1-9a55-8b29a3698115"
      },
      "source": [
        "print(y.shape, y.ndim)\n",
        "print(X.shape, X.ndim)"
      ],
      "execution_count": null,
      "outputs": [
        {
          "output_type": "stream",
          "text": [
            "(2720,) 1\n",
            "(2720, 25088) 2\n"
          ],
          "name": "stdout"
        }
      ]
    },
    {
      "cell_type": "code",
      "metadata": {
        "id": "C3feKi8rP_RP"
      },
      "source": [
        "from sklearn.model_selection import train_test_split\n",
        "\n",
        "Xtrain, Xtest, ytrain, ytest = train_test_split(X, y, test_size=0.2)"
      ],
      "execution_count": null,
      "outputs": []
    },
    {
      "cell_type": "code",
      "metadata": {
        "id": "uc_D2qKF-Fe4",
        "colab": {
          "base_uri": "https://localhost:8080/",
          "height": 279
        },
        "outputId": "9fe2e186-0c03-4d36-a706-2332a0928172"
      },
      "source": [
        "print(Xtrain[:-1])"
      ],
      "execution_count": null,
      "outputs": [
        {
          "output_type": "stream",
          "text": [
            "      0      1      2      3      4      ...  25083  25084  25085      25086  25087\n",
            "1331    0.0    0.0    0.0    0.0    0.0  ...    0.0    0.0    0.0   0.000000    0.0\n",
            "2396    0.0    0.0    0.0    0.0    0.0  ...    0.0    0.0    0.0   7.262002    0.0\n",
            "2043    0.0    0.0    0.0    0.0    0.0  ...    0.0    0.0    0.0   0.000000    0.0\n",
            "1899    0.0    0.0    0.0    0.0    0.0  ...    0.0    0.0    0.0   0.000000    0.0\n",
            "784     0.0    0.0    0.0    0.0    0.0  ...    0.0    0.0    0.0   7.496643    0.0\n",
            "...     ...    ...    ...    ...    ...  ...    ...    ...    ...        ...    ...\n",
            "1100    0.0    0.0    0.0    0.0    0.0  ...    0.0    0.0    0.0  13.796495    0.0\n",
            "1388    0.0    0.0    0.0    0.0    0.0  ...    0.0    0.0    0.0  13.566526    0.0\n",
            "261     0.0    0.0    0.0    0.0    0.0  ...    0.0    0.0    0.0   0.000000    0.0\n",
            "1296    0.0    0.0    0.0    0.0    0.0  ...    0.0    0.0    0.0   6.118498    0.0\n",
            "1291    0.0    0.0    0.0    0.0    0.0  ...    0.0    0.0    0.0   0.000000    0.0\n",
            "\n",
            "[2175 rows x 25088 columns]\n"
          ],
          "name": "stdout"
        }
      ]
    },
    {
      "cell_type": "code",
      "metadata": {
        "id": "8PS2WQ1_n0LD",
        "colab": {
          "base_uri": "https://localhost:8080/",
          "height": 36
        },
        "outputId": "355799f2-0249-4641-870f-7be0d2c17a2b"
      },
      "source": [
        "import time\n",
        "start = time.time()\n",
        "from sklearn import svm\n",
        "from sklearn.svm import SVC\n",
        "clf = SVC()\n",
        "clf.fit(Xtrain, ytrain)\n",
        "preds = clf.predict(Xtest)\n",
        "\n",
        "print('Running time: %.4f seconds' % (time.time()-start))"
      ],
      "execution_count": null,
      "outputs": [
        {
          "output_type": "stream",
          "text": [
            "Running time: 116.2748 seconds\n"
          ],
          "name": "stdout"
        }
      ]
    },
    {
      "cell_type": "code",
      "metadata": {
        "id": "ftWGzkjZn4mq",
        "colab": {
          "base_uri": "https://localhost:8080/",
          "height": 36
        },
        "outputId": "a804229f-9408-46d2-9de6-79f20c6f1aaf"
      },
      "source": [
        "from sklearn.metrics import accuracy_score, confusion_matrix, classification_report\n",
        "print(\"Accuracy on y_test:\",accuracy_score(ytest, preds))"
      ],
      "execution_count": null,
      "outputs": [
        {
          "output_type": "stream",
          "text": [
            "Accuracy on y_test: 0.8786764705882353\n"
          ],
          "name": "stdout"
        }
      ]
    },
    {
      "cell_type": "code",
      "metadata": {
        "id": "uI6fr8_On880",
        "colab": {
          "base_uri": "https://localhost:8080/",
          "height": 314
        },
        "outputId": "4d85ec4a-1ce2-425f-fcf5-b0bdf8d3c846"
      },
      "source": [
        "import matplotlib.pyplot as plt\n",
        "import seaborn as sns\n",
        "\n",
        "cm = confusion_matrix(ytest, preds)\n",
        "sns.heatmap(cm, annot=True, cbar=False, fmt='g')\n",
        "plt.xlabel('Predicted label')\n",
        "plt.ylabel('True label')\n",
        "plt.title('Confusion Matrix')"
      ],
      "execution_count": null,
      "outputs": [
        {
          "output_type": "execute_result",
          "data": {
            "text/plain": [
              "Text(0.5, 1.0, 'Confusion Matrix')"
            ]
          },
          "metadata": {
            "tags": []
          },
          "execution_count": 68
        },
        {
          "output_type": "display_data",
          "data": {
            "image/png": "[encoded data removed]",
            "text/plain": [
              "<Figure size 432x288 with 1 Axes>"
            ]
          },
          "metadata": {
            "tags": []
          }
        }
      ]
    },
    {
      "cell_type": "markdown",
      "metadata": {
        "id": "rogJFnNvoAv0"
      },
      "source": [
        "Fine Tuning"
      ]
    },
    {
      "cell_type": "code",
      "metadata": {
        "id": "TpO54qXf3Mn5"
      },
      "source": [
        "# model = models.Sequential()\n",
        "# model.add(layers.Dense(2048, activation='relu', input_dim=7 * 7 * 512))\n",
        "# model.add(layers.Dropout(0.5))\n",
        "# model.add(layers.Dense(512, activation='relu', input_dim=7 * 7 * 512))\n",
        "# model.add(layers.Dropout(0.5))\n",
        "# model.add(layers.Dense(128, activation='relu', input_dim=7 * 7 * 512))\n",
        "# model.add(layers.Dropout(0.5))\n",
        "# model.add(layers.Dense(2, activation='softmax'))"
      ],
      "execution_count": null,
      "outputs": []
    },
    {
      "cell_type": "code",
      "metadata": {
        "id": "ZaceED0T3PEd"
      },
      "source": [
        "# model.compile(loss='categorical_crossentropy',\n",
        "#               optimizer=optimizers.RMSprop(lr=1e-4),\n",
        "#               metrics=['acc'])"
      ],
      "execution_count": null,
      "outputs": []
    },
    {
      "cell_type": "code",
      "metadata": {
        "id": "1911y4jT3Tur"
      },
      "source": [
        "# history = model.fit(train_features, train_labels,\n",
        "#                     epochs=25,\n",
        "#                     batch_size=16,\n",
        "#                     validation_data=(validation_features, validation_labels))"
      ],
      "execution_count": null,
      "outputs": []
    },
    {
      "cell_type": "markdown",
      "metadata": {
        "id": "UsjnVnka9F3W"
      },
      "source": [
        "With Augemnatation"
      ]
    },
    {
      "cell_type": "code",
      "metadata": {
        "id": "G5OGJh7q9Fk3"
      },
      "source": [
        "# model = models.Sequential()\n",
        "# model.add(conv_base)\n",
        "# model.add(layers.Flatten())\n",
        "# model.add(layers.Dense(512, activation='relu'))\n",
        "# model.add(layers.Dropout(0.5))\n",
        "# model.add(layers.Dense(128, activation='relu'))\n",
        "# model.add(layers.Dropout(0.3))\n",
        "# model.add(layers.Dense(2, activation='softmax'))"
      ],
      "execution_count": null,
      "outputs": []
    },
    {
      "cell_type": "code",
      "metadata": {
        "id": "dqv1UwYs9QVN"
      },
      "source": [
        "# train_datagen = ImageDataGenerator(\n",
        "#         rescale=1./255,\n",
        "#         rotation_range=15,\n",
        "#         width_shift_range=0.05,\n",
        "#         height_shift_range=0.05,\n",
        "#         shear_range=0.05,\n",
        "#         # zoom_range=0.2,\n",
        "#         horizontal_flip=True,\n",
        "#         vertical_flip=True)\n",
        "\n",
        "# test_datagen = ImageDataGenerator(rescale=1./255)\n",
        "\n",
        "# train_generator = train_datagen.flow_from_directory(\n",
        "#         train,\n",
        "#         target_size=(240, 240),  # all images will be resized to 240x240\n",
        "#         batch_size=batch_size,\n",
        "#         class_mode='categorical')  # more than two classes\n",
        "\n",
        "# validation_generator = test_datagen.flow_from_directory(\n",
        "#         valid,\n",
        "#         target_size=(240, 240),\n",
        "#         batch_size=batch_size,\n",
        "#         class_mode='categorical',\n",
        "#         shuffle = False\n",
        "# )"
      ],
      "execution_count": null,
      "outputs": []
    },
    {
      "cell_type": "code",
      "metadata": {
        "id": "ZtGn6jca9iJo"
      },
      "source": [
        "# model.compile(loss='categorical_crossentropy',\n",
        "#               optimizer=optimizers.Adam(lr=2e-5),\n",
        "#               metrics=['acc'])"
      ],
      "execution_count": null,
      "outputs": []
    },
    {
      "cell_type": "code",
      "metadata": {
        "id": "n7PKFiSC9ka0"
      },
      "source": [
        "# history = model.fit_generator(\n",
        "#           train_generator,\n",
        "#           epochs=30,\n",
        "#           validation_data=validation_generator)"
      ],
      "execution_count": null,
      "outputs": []
    },
    {
      "cell_type": "markdown",
      "metadata": {
        "id": "XaTHamLaHBuH"
      },
      "source": [
        "Fine Tuning"
      ]
    },
    {
      "cell_type": "code",
      "metadata": {
        "id": "xI1QW_UUHDUo"
      },
      "source": [
        "# conv_base.trainable = True\n",
        "\n",
        "# set_trainable = False\n",
        "# for layer in conv_base.layers:\n",
        "#     if layer.name == 'block5_conv1':\n",
        "#         set_trainable = True\n",
        "#     if set_trainable:\n",
        "#         layer.trainable = True\n",
        "#     else:\n",
        "#         layer.trainable = False"
      ],
      "execution_count": null,
      "outputs": []
    },
    {
      "cell_type": "code",
      "metadata": {
        "id": "sWmImYC6HLh_"
      },
      "source": [
        "# model.compile(loss='binary_crossentropy',\n",
        "#               optimizer=optimizers.Adam(lr=2e-5),\n",
        "#               metrics=['acc'])"
      ],
      "execution_count": null,
      "outputs": []
    },
    {
      "cell_type": "code",
      "metadata": {
        "id": "sBVwVDk1HNdr"
      },
      "source": [
        "# history = model.fit_generator(\n",
        "#     train_generator,\n",
        "#     steps_per_epoch=100,\n",
        "#     epochs=50,\n",
        "#     validation_data=validation_generator,\n",
        "#     validation_steps=50)"
      ],
      "execution_count": null,
      "outputs": []
    },
    {
      "cell_type": "code",
      "metadata": {
        "id": "fVEMNzzrHrLY"
      },
      "source": [
        "# acc = history.history['acc']\n",
        "# val_acc = history.history['val_acc']\n",
        "# loss = history.history['loss']\n",
        "# val_loss = history.history['val_loss']\n",
        "# epochs_range = range(1, len(history.epoch) + 1)\n",
        "\n",
        "# plt.figure(figsize=(15,5))\n",
        "\n",
        "# plt.subplot(1, 2, 1)\n",
        "# plt.plot(epochs_range, acc, label='Train Set')\n",
        "# plt.plot(epochs_range, val_acc, label='Val Set')\n",
        "# plt.legend(loc=\"best\")\n",
        "# plt.xlabel('Epochs')\n",
        "# plt.ylabel('Accuracy')\n",
        "# plt.title('Model Accuracy')\n",
        "\n",
        "# plt.subplot(1, 2, 2)\n",
        "# plt.plot(epochs_range, loss, label='Train Set')\n",
        "# plt.plot(epochs_range, val_loss, label='Val Set')\n",
        "# plt.legend(loc=\"best\")\n",
        "# plt.xlabel('Epochs')\n",
        "# plt.ylabel('Loss')\n",
        "# plt.title('Model Loss')\n",
        "\n",
        "# plt.tight_layout()\n",
        "# plt.show()"
      ],
      "execution_count": null,
      "outputs": []
    },
    {
      "cell_type": "markdown",
      "metadata": {
        "id": "YBfY1OQNENJC"
      },
      "source": [
        "Wrong below this"
      ]
    },
    {
      "cell_type": "code",
      "metadata": {
        "id": "2hpGghdsv6sf"
      },
      "source": [
        "# # A list that is going to contain tuples: (species of the flower, corresponding image path)\n",
        "# lst_scans = []\n",
        "# # species = categories\n",
        "# for categories in classes:\n",
        "#     # Get all the file names, all_scans = all_flowers\n",
        "#     all_scans = os.listdir(train +\"/\"+ categories )\n",
        "#     # Add then to the list\n",
        "#     for scan in all_scans:\n",
        "#         lst_scans.append((categories, (train /categories + \"/\" + scan)))\n",
        "\n",
        "# # Build a dataframe        \n",
        "# scans = pd.DataFrame(data=scans, columns=['category', 'image'], index=None)\n",
        "# scans.head()"
      ],
      "execution_count": null,
      "outputs": []
    },
    {
      "cell_type": "code",
      "metadata": {
        "id": "lMUSLJoj3sik"
      },
      "source": [
        "# Parameters for Image Generator\n",
        "# params = {'rescale':1./255, 'rotation_range':40, 'zoom_range':0.15, 'width_shift_range':0.2, 'height_shift_range':0.2, 'shear_range':0.05, 'horizontal_flip':True, 'featurewise_std_normalization':True, 'featurewise_center':True, 'fill_mode':'nearest'}\n",
        "\n",
        "# # Image Data Generator configuration\n",
        "# image_gen = ImageDataGenerator(**params)\n",
        "    \n",
        "# # Train Split\n",
        "# train_generator  = image_gen.flow_from_directory(\n",
        "# directory= '/mnt/4A34DB4C34DB39A1/Miscellaneous/MSDS Datasets/Finalized/Train/',\n",
        "# batch_size=16,\n",
        "# target_size=(224, 224),\n",
        "# color_mode=\"rgb\",\n",
        "# class_mode=\"binary\",\n",
        "# shuffle=True,\n",
        "# seed=42)\n",
        "    \n",
        "# # Validation Split\n",
        "# valid_generator  = image_gen.flow_from_directory(\n",
        "# directory= '/mnt/4A34DB4C34DB39A1/Miscellaneous/MSDS Datasets/Finalized/Validate/',\n",
        "# batch_size=16,\n",
        "# target_size=(224, 224),\n",
        "# color_mode=\"rgb\",\n",
        "# class_mode=\"binary\",\n",
        "# shuffle=True,\n",
        "# seed=42)\n",
        "    \n",
        "# # Test Split\n",
        "# test_generator  = image_gen.flow_from_directory(\n",
        "# directory= '/mnt/4A34DB4C34DB39A1/Miscellaneous/MSDS Datasets/Finalized/Test/',\n",
        "# batch_size=16,\n",
        "# target_size=(224, 224),\n",
        "# color_mode=\"rgb\",\n",
        "# class_mode=\"binary\",\n",
        "# shuffle=True,\n",
        "# seed=42)"
      ],
      "execution_count": null,
      "outputs": []
    }
  ]
}